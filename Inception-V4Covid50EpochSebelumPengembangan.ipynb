{
  "nbformat": 4,
  "nbformat_minor": 0,
  "metadata": {
    "colab": {
      "name": "FixTugas4Covid50Epoch.ipynb",
      "provenance": []
    },
    "kernelspec": {
      "name": "python3",
      "display_name": "Python 3"
    },
    "accelerator": "GPU"
  },
  "cells": [
    {
      "cell_type": "code",
      "metadata": {
        "id": "haOwhdRbKj93",
        "colab_type": "code",
        "outputId": "222e32c3-e90d-4337-ab3a-eb4274dd0a49",
        "colab": {
          "base_uri": "https://localhost:8080/",
          "height": 54
        }
      },
      "source": [
        "%tensorflow_version 1.x\n",
        "import numpy as np\n",
        "import pickle\n",
        "import cv2\n",
        "from os import listdir\n",
        "from sklearn.preprocessing import LabelBinarizer\n",
        "import warnings\n",
        "from keras.models import Sequential\n",
        "from keras.layers.normalization import BatchNormalization\n",
        "from keras.layers.convolutional import Conv2D\n",
        "from keras.layers.convolutional import MaxPooling2D,Convolution2D,AveragePooling2D\n",
        "from keras.layers import GlobalAveragePooling2D\n",
        "from keras.layers import Input\n",
        "from keras.layers.core import Activation, Flatten, Dropout, Dense\n",
        "from keras.layers.merge import concatenate\n",
        "from keras.models import Model\n",
        "from keras import regularizers\n",
        "from keras import initializers\n",
        "from keras import backend as K\n",
        "from keras.utils.layer_utils import convert_all_kernels_in_model\n",
        "from keras.utils.data_utils import get_file\n",
        "from keras.preprocessing.image import ImageDataGenerator\n",
        "from keras.optimizers import Adam\n",
        "from keras.preprocessing import image\n",
        "from keras.preprocessing.image import img_to_array\n",
        "from sklearn.preprocessing import MultiLabelBinarizer\n",
        "from sklearn.model_selection import train_test_split\n",
        "import matplotlib.pyplot as plt"
      ],
      "execution_count": 0,
      "outputs": [
        {
          "output_type": "stream",
          "text": [
            "TensorFlow 1.x selected.\n"
          ],
          "name": "stdout"
        },
        {
          "output_type": "stream",
          "text": [
            "Using TensorFlow backend.\n"
          ],
          "name": "stderr"
        }
      ]
    },
    {
      "cell_type": "code",
      "metadata": {
        "id": "5-C1FNxNLI0_",
        "colab_type": "code",
        "colab": {}
      },
      "source": [
        "EPOCHS = 50\n",
        "INIT_LR = 1e-3\n",
        "BS = 4\n",
        "default_image_size = tuple((299, 299))\n",
        "image_size = 0\n",
        "directory_root = \"/content/drive/My Drive/Tugas3 Deep Learning/\"\n",
        "width=299\n",
        "height=299\n",
        "depth=3"
      ],
      "execution_count": 0,
      "outputs": []
    },
    {
      "cell_type": "code",
      "metadata": {
        "id": "Wjh2cKmBc4PO",
        "colab_type": "code",
        "colab": {}
      },
      "source": [
        "def convert_image_to_array(image_dir):\n",
        "    try:\n",
        "        image = cv2.imread(image_dir)\n",
        "        if image is not None :\n",
        "            image = cv2.resize(image, default_image_size)   \n",
        "            return img_to_array(image)\n",
        "        else :\n",
        "            return np.array([])\n",
        "    except Exception as e:\n",
        "        print(f\"Error : {e}\")\n",
        "        return None"
      ],
      "execution_count": 0,
      "outputs": []
    },
    {
      "cell_type": "code",
      "metadata": {
        "id": "WkIP4cIFc6J_",
        "colab_type": "code",
        "outputId": "a1c3b853-5cc4-4f9b-ab7f-a77195c8eead",
        "colab": {
          "base_uri": "https://localhost:8080/",
          "height": 91
        }
      },
      "source": [
        "from os import listdir\n",
        "image_list, label_list = [], []\n",
        "try:\n",
        "    print(\"[INFO] Loading images ...\")\n",
        "    root_dir = listdir(directory_root)\n",
        "    for directory in root_dir :\n",
        "        # remove .DS_Store from list\n",
        "        if directory == \".DS_Store\" :\n",
        "            root_dir.remove(directory)\n",
        "\n",
        "    for plant_folder in root_dir :\n",
        "        plant_disease_folder_list = listdir(f\"{directory_root}/{plant_folder}\")\n",
        "        \n",
        "        for disease_folder in plant_disease_folder_list :\n",
        "            # remove .DS_Store from list\n",
        "            if disease_folder == \".DS_Store\" :\n",
        "                plant_disease_folder_list.remove(disease_folder)\n",
        "\n",
        "        for plant_disease_folder in plant_disease_folder_list:\n",
        "            print(f\"[INFO] Processing {plant_disease_folder} ...\")\n",
        "            plant_disease_image_list = listdir(f\"{directory_root}/{plant_folder}/{plant_disease_folder}/\")\n",
        "                \n",
        "            for single_plant_disease_image in plant_disease_image_list :\n",
        "                if single_plant_disease_image == \".DS_Store\" :\n",
        "                    plant_disease_image_list.remove(single_plant_disease_image)\n",
        "\n",
        "            for image in plant_disease_image_list[:200]:\n",
        "                image_directory = f\"{directory_root}/{plant_folder}/{plant_disease_folder}/{image}\"\n",
        "                if image_directory.endswith(\".jpg\") == True or image_directory.endswith(\".jpeg\") == True or image_directory.endswith(\".png\") == True:\n",
        "                    image_list.append(convert_image_to_array(image_directory))\n",
        "                    label_list.append(plant_disease_folder)\n",
        "    %time print(\"[INFO] Image loading completed\")  \n",
        "except Exception as e:\n",
        "    print(f\"Error : {e}\")"
      ],
      "execution_count": 0,
      "outputs": [
        {
          "output_type": "stream",
          "text": [
            "[INFO] Loading images ...\n",
            "[INFO] Processing covid ...\n",
            "[INFO] Processing normal ...\n",
            "Error : [Errno 20] Not a directory: '/content/drive/My Drive/Tugas3 Deep Learning//label_transform.pkl'\n"
          ],
          "name": "stdout"
        }
      ]
    },
    {
      "cell_type": "code",
      "metadata": {
        "id": "MWRpPNgadTyO",
        "colab_type": "code",
        "outputId": "946038fa-558e-4f14-820d-28a35ce791e3",
        "colab": {
          "base_uri": "https://localhost:8080/",
          "height": 35
        }
      },
      "source": [
        "image_size = len(image_list)\n",
        "image_size"
      ],
      "execution_count": 0,
      "outputs": [
        {
          "output_type": "execute_result",
          "data": {
            "text/plain": [
              "148"
            ]
          },
          "metadata": {
            "tags": []
          },
          "execution_count": 5
        }
      ]
    },
    {
      "cell_type": "code",
      "metadata": {
        "id": "rN6GSL_ddV42",
        "colab_type": "code",
        "colab": {}
      },
      "source": [
        "label_binarizer = LabelBinarizer()\n",
        "image_labels = label_binarizer.fit_transform(label_list)\n",
        "pickle.dump(label_binarizer,open('label_transform.pkl', 'wb'))\n",
        "n_classes = len(label_binarizer.classes_)"
      ],
      "execution_count": 0,
      "outputs": []
    },
    {
      "cell_type": "code",
      "metadata": {
        "id": "iJl7p1rteIrP",
        "colab_type": "code",
        "outputId": "6b8a7603-d405-4df5-8519-65684e16acb9",
        "colab": {
          "base_uri": "https://localhost:8080/",
          "height": 35
        }
      },
      "source": [
        "print(label_binarizer.classes_)"
      ],
      "execution_count": 0,
      "outputs": [
        {
          "output_type": "stream",
          "text": [
            "['covid' 'normal']\n"
          ],
          "name": "stdout"
        }
      ]
    },
    {
      "cell_type": "code",
      "metadata": {
        "id": "y6izRYyKeP00",
        "colab_type": "code",
        "colab": {}
      },
      "source": [
        "label = []\n",
        "for i in image_labels:\n",
        "    if i == [0]:\n",
        "       label.append([1,0])\n",
        "    else:\n",
        "       label.append([0,1])\n",
        "       \n",
        "labels = np.array(label)"
      ],
      "execution_count": 0,
      "outputs": []
    },
    {
      "cell_type": "code",
      "metadata": {
        "id": "5RVOFmGWec0Z",
        "colab_type": "code",
        "colab": {}
      },
      "source": [
        "\n",
        "np_image_list = np.array(image_list, dtype=np.float16) / 225.0"
      ],
      "execution_count": 0,
      "outputs": []
    },
    {
      "cell_type": "code",
      "metadata": {
        "id": "3r_kk9g1eX_0",
        "colab_type": "code",
        "outputId": "c6dca563-8f0a-4b8c-e750-a8df6627f8f9",
        "colab": {
          "base_uri": "https://localhost:8080/",
          "height": 35
        }
      },
      "source": [
        "print(\"[INFO] Spliting data to train, test, and validate\")\n",
        "x_train, x_test, y_train, y_test = train_test_split(np_image_list, labels, test_size=0.2, random_state = 42)"
      ],
      "execution_count": 0,
      "outputs": [
        {
          "output_type": "stream",
          "text": [
            "[INFO] Spliting data to train, test, and validate\n"
          ],
          "name": "stdout"
        }
      ]
    },
    {
      "cell_type": "code",
      "metadata": {
        "id": "61D0ANdsegoX",
        "colab_type": "code",
        "colab": {}
      },
      "source": [
        "aug = ImageDataGenerator(\n",
        "    rotation_range=25, width_shift_range=0.1,\n",
        "    height_shift_range=0.1, shear_range=0.2, \n",
        "    zoom_range=0.2,horizontal_flip=True, \n",
        "    fill_mode=\"nearest\")"
      ],
      "execution_count": 0,
      "outputs": []
    },
    {
      "cell_type": "code",
      "metadata": {
        "id": "LPvaLzQQL3uA",
        "colab_type": "code",
        "outputId": "ff9370ec-2877-499c-dd5e-416a464c244e",
        "colab": {
          "base_uri": "https://localhost:8080/",
          "height": 166
        }
      },
      "source": [
        "'''\n",
        "Copyright 2017 TensorFlow Authors and Kent Sommer\n",
        "\n",
        "Licensed under the Apache License, Version 2.0 (the \"License\");\n",
        "you may not use this file except in compliance with the License.\n",
        "You may obtain a copy of the License at\n",
        "\n",
        "   http://www.apache.org/licenses/LICENSE-2.0\n",
        "\n",
        "Unless required by applicable law or agreed to in writing, software\n",
        "distributed under the License is distributed on an \"AS IS\" BASIS,\n",
        "WITHOUT WARRANTIES OR CONDITIONS OF ANY KIND, either express or implied.\n",
        "See the License for the specific language governing permissions and\n",
        "limitations under the License.\n",
        "'''\n",
        "WEIGHTS_PATH = 'https://github.com/kentsommer/keras-inceptionV4/releases/download/2.1/inception-v4_weights_tf_dim_ordering_tf_kernels.h5'\n",
        "WEIGHTS_PATH_NO_TOP = 'https://github.com/kentsommer/keras-inceptionV4/releases/download/2.1/inception-v4_weights_tf_dim_ordering_tf_kernels_notop.h5'\n",
        "def preprocess_input(x):\n",
        "    x = np.divide(x, 255.0)\n",
        "    x = np.subtract(x, 0.5)\n",
        "    x = np.multiply(x, 2.0)\n",
        "    return x\n",
        "def conv2d_bn(x, nb_filter, num_row, num_col,\n",
        "              padding='same', strides=(1, 1), use_bias=False):\n",
        "    \"\"\"\n",
        "    Utility function to apply conv + BN. \n",
        "    (Slightly modified from https://github.com/fchollet/keras/blob/master/keras/applications/inception_v3.py)\n",
        "    \"\"\"\n",
        "    if K.image_data_format() == 'channels_first':\n",
        "        channel_axis = 1\n",
        "    else:\n",
        "        channel_axis = -1\n",
        "    x = Convolution2D(nb_filter, (num_row, num_col),\n",
        "                      strides=strides,\n",
        "                      padding=padding,\n",
        "                      use_bias=use_bias,\n",
        "                      kernel_regularizer=regularizers.l2(0.00004),\n",
        "                      kernel_initializer=initializers.VarianceScaling(scale=2.0, mode='fan_in', distribution='normal', seed=None))(x)\n",
        "    x = BatchNormalization(axis=channel_axis, momentum=0.9997, scale=False)(x)\n",
        "    x = Activation('relu')(x)\n",
        "    return x\n",
        "\n",
        "def block_inception_a(input):\n",
        "    if K.image_data_format() == 'channels_first':\n",
        "        channel_axis = 1\n",
        "    else:\n",
        "        channel_axis = -1\n",
        "\n",
        "    branch_0 = conv2d_bn(input, 96, 1, 1)\n",
        "    branch_1 = conv2d_bn(input, 64, 1, 1)\n",
        "    branch_1 = conv2d_bn(branch_1, 96, 3, 3)\n",
        "    branch_2 = conv2d_bn(input, 64, 1, 1)\n",
        "    branch_2 = conv2d_bn(branch_2, 96, 3, 3)\n",
        "    branch_2 = conv2d_bn(branch_2, 96, 3, 3)\n",
        "    branch_3 = AveragePooling2D((3,3), strides=(1,1), padding='same')(input)\n",
        "    branch_3 = conv2d_bn(branch_3, 96, 1, 1)\n",
        "    x = concatenate([branch_0, branch_1, branch_2, branch_3], axis=channel_axis)\n",
        "    return x\n",
        "\n",
        "def block_reduction_a(input):\n",
        "    if K.image_data_format() == 'channels_first':\n",
        "        channel_axis = 1\n",
        "    else:\n",
        "        channel_axis = -1\n",
        "    branch_0 = conv2d_bn(input, 384, 3, 3, strides=(2,2), padding='valid')\n",
        "    branch_1 = conv2d_bn(input, 192, 1, 1)\n",
        "    branch_1 = conv2d_bn(branch_1, 224, 3, 3)\n",
        "    branch_1 = conv2d_bn(branch_1, 256, 3, 3, strides=(2,2), padding='valid')\n",
        "    branch_2 = MaxPooling2D((3,3), strides=(2,2), padding='valid')(input)\n",
        "    x = concatenate([branch_0, branch_1, branch_2], axis=channel_axis)\n",
        "    return x\n",
        "def block_inception_b(input):\n",
        "    if K.image_data_format() == 'channels_first':\n",
        "        channel_axis = 1\n",
        "    else:\n",
        "        channel_axis = -1\n",
        "    branch_0 = conv2d_bn(input, 384, 1, 1)\n",
        "    branch_1 = conv2d_bn(input, 192, 1, 1)\n",
        "    branch_1 = conv2d_bn(branch_1, 224, 1, 7)\n",
        "    branch_1 = conv2d_bn(branch_1, 256, 7, 1)\n",
        "    branch_2 = conv2d_bn(input, 192, 1, 1)\n",
        "    branch_2 = conv2d_bn(branch_2, 192, 7, 1)\n",
        "    branch_2 = conv2d_bn(branch_2, 224, 1, 7)\n",
        "    branch_2 = conv2d_bn(branch_2, 224, 7, 1)\n",
        "    branch_2 = conv2d_bn(branch_2, 256, 1, 7)\n",
        "    branch_3 = AveragePooling2D((3,3), strides=(1,1), padding='same')(input)\n",
        "    branch_3 = conv2d_bn(branch_3, 128, 1, 1)\n",
        "    x = concatenate([branch_0, branch_1, branch_2, branch_3], axis=channel_axis)\n",
        "    return x\n",
        "\n",
        "def block_reduction_b(input):\n",
        "    if K.image_data_format() == 'channels_first':\n",
        "        channel_axis = 1\n",
        "    else:\n",
        "        channel_axis = -1\n",
        "    branch_0 = conv2d_bn(input, 192, 1, 1)\n",
        "    branch_0 = conv2d_bn(branch_0, 192, 3, 3, strides=(2, 2), padding='valid')\n",
        "    branch_1 = conv2d_bn(input, 256, 1, 1)\n",
        "    branch_1 = conv2d_bn(branch_1, 256, 1, 7)\n",
        "    branch_1 = conv2d_bn(branch_1, 320, 7, 1)\n",
        "    branch_1 = conv2d_bn(branch_1, 320, 3, 3, strides=(2,2), padding='valid')\n",
        "    branch_2 = MaxPooling2D((3, 3), strides=(2, 2), padding='valid')(input)\n",
        "    x = concatenate([branch_0, branch_1, branch_2], axis=channel_axis)\n",
        "    return x\n",
        "def block_inception_c(input):\n",
        "    if K.image_data_format() == 'channels_first':\n",
        "        channel_axis = 1\n",
        "    else:\n",
        "        channel_axis = -1\n",
        "    branch_0 = conv2d_bn(input, 256, 1, 1)\n",
        "    branch_1 = conv2d_bn(input, 384, 1, 1)\n",
        "    branch_10 = conv2d_bn(branch_1, 256, 1, 3)\n",
        "    branch_11 = conv2d_bn(branch_1, 256, 3, 1)\n",
        "    branch_1 = concatenate([branch_10, branch_11], axis=channel_axis)\n",
        "    branch_2 = conv2d_bn(input, 384, 1, 1)\n",
        "    branch_2 = conv2d_bn(branch_2, 448, 3, 1)\n",
        "    branch_2 = conv2d_bn(branch_2, 512, 1, 3)\n",
        "    branch_20 = conv2d_bn(branch_2, 256, 1, 3)\n",
        "    branch_21 = conv2d_bn(branch_2, 256, 3, 1)\n",
        "    branch_2 = concatenate([branch_20, branch_21], axis=channel_axis)\n",
        "    branch_3 = AveragePooling2D((3, 3), strides=(1, 1), padding='same')(input)\n",
        "    branch_3 = conv2d_bn(branch_3, 256, 1, 1)\n",
        "    x = concatenate([branch_0, branch_1, branch_2, branch_3], axis=channel_axis)\n",
        "    return x\n",
        "def inception_v4_base(input):\n",
        "    if K.image_data_format() == 'channels_first':\n",
        "        channel_axis = 1\n",
        "    else:\n",
        "        channel_axis = -1\n",
        "    # Input Shape is 299 x 299 x 3 (th) or 3 x 299 x 299 (th)\n",
        "    #Stem Block\n",
        "    net = conv2d_bn(input, 32, 3, 3, strides=(2,2), padding='valid')\n",
        "    net = conv2d_bn(net, 32, 3, 3, padding='valid')\n",
        "    net = conv2d_bn(net, 64, 3, 3)\n",
        "    branch_0 = MaxPooling2D((3,3), strides=(2,2), padding='valid')(net)\n",
        "    branch_1 = conv2d_bn(net, 96, 3, 3, strides=(2,2), padding='valid')\n",
        "    net = concatenate([branch_0, branch_1], axis=channel_axis)\n",
        "    branch_0 = conv2d_bn(net, 64, 1, 1)\n",
        "    branch_0 = conv2d_bn(branch_0, 96, 3, 3, padding='valid')\n",
        "    branch_1 = conv2d_bn(net, 64, 1, 1)\n",
        "    branch_1 = conv2d_bn(branch_1, 64, 1, 7)\n",
        "    branch_1 = conv2d_bn(branch_1, 64, 7, 1)\n",
        "    branch_1 = conv2d_bn(branch_1, 96, 3, 3, padding='valid')\n",
        "    net = concatenate([branch_0, branch_1], axis=channel_axis)\n",
        "    branch_0 = conv2d_bn(net, 192, 3, 3, strides=(2,2), padding='valid')\n",
        "    branch_1 = MaxPooling2D((3,3), strides=(2,2), padding='valid')(net)\n",
        "    net = concatenate([branch_0, branch_1], axis=channel_axis)\n",
        "    # 35 x 35 x 384\n",
        "    # 4 x Inception-A blocks\n",
        "    for idx in range(4):\n",
        "    \tnet = block_inception_a(net)\n",
        "    # 35 x 35 x 384\n",
        "    # Reduction-A block\n",
        "    net = block_reduction_a(net)\n",
        "    # 17 x 17 x 1024\n",
        "    # 7 x Inception-B blocks\n",
        "    for idx in range(7):\n",
        "    \tnet = block_inception_b(net)\n",
        "    # 17 x 17 x 1024\n",
        "    # Reduction-B block\n",
        "    net = block_reduction_b(net)\n",
        "    # 8 x 8 x 1536\n",
        "    # 3 x Inception-C blocks\n",
        "    for idx in range(3):\n",
        "    \tnet = block_inception_c(net)\n",
        "    return net\n",
        "def inception_v4(num_classes, dropout_keep_prob, weights, include_top):\n",
        "    '''\n",
        "    Creates the inception v4 network\n",
        "\n",
        "    Args:\n",
        "    \tnum_classes: number of classes\n",
        "    \tdropout_keep_prob: float, the fraction to keep before final layer.\n",
        "    \n",
        "    Returns: \n",
        "    \tlogits: the logits outputs of the model.\n",
        "    '''\n",
        "    # Input Shape is 299 x 299 x 3 (tf) or 3 x 299 x 299 (th)\n",
        "    if K.image_data_format() == 'channels_first':\n",
        "        inputs = Input((3, 299, 299))\n",
        "    else:\n",
        "        inputs = Input((299, 299, 3))\n",
        "    # Make inception base\n",
        "    x = inception_v4_base(inputs)\n",
        "    # Final pooling and prediction\n",
        "    if include_top:\n",
        "        # 1 x 1 x 1536\n",
        "        x = AveragePooling2D((8,8), padding='valid')(x)\n",
        "        x = Dropout(dropout_keep_prob)(x)\n",
        "        x = Flatten()(x)\n",
        "        # 1536\n",
        "        x = Dense(units=num_classes, activation='softmax')(x)\n",
        "    model = Model(inputs, x, name='inception_v4')\n",
        "    # load weights\n",
        "    if weights == 'imagenet':\n",
        "        if K.image_data_format() == 'channels_first':\n",
        "            if K.backend() == 'tensorflow':\n",
        "                warnings.warn('You are using the TensorFlow backend, yet you '\n",
        "                              'are using the Theano '\n",
        "                              'image data format convention '\n",
        "                              '(`image_data_format=\"channels_first\"`). '\n",
        "                              'For best performance, set '\n",
        "                              '`image_data_format=\"channels_last\"` in '\n",
        "                              'your Keras config '\n",
        "                              'at ~/.keras/keras.json.')\n",
        "        if include_top:\n",
        "            weights_path = get_file(\n",
        "                'inception-v4_weights_tf_dim_ordering_tf_kernels.h5',\n",
        "                WEIGHTS_PATH,\n",
        "                cache_subdir='models',\n",
        "                md5_hash='9fe79d77f793fe874470d84ca6ba4a3b')\n",
        "        else:\n",
        "            weights_path = get_file(\n",
        "                'inception-v4_weights_tf_dim_ordering_tf_kernels_notop.h5',\n",
        "                WEIGHTS_PATH_NO_TOP,\n",
        "                cache_subdir='models',\n",
        "                md5_hash='9296b46b5971573064d12e4669110969')\n",
        "        model.load_weights(weights_path, by_name=True)\n",
        "    return model\n",
        "\n",
        "\n",
        "def create_model(num_classes=1001, dropout_prob=0.2, weights=None, include_top=False):\n",
        "    return inception_v4(num_classes, dropout_prob, weights, include_top)\n",
        "# ----------------------------------------------------------\n",
        "incept_model = create_model(num_classes=1001, dropout_prob=0.2, weights=None, include_top=False)\n",
        "incept_model.load_weights('/content/drive/My Drive/Deep Learning/input/inception-v4_weights_tf_dim_ordering_tf_kernels_notop.h5')\n",
        "for l in incept_model.layers: \n",
        "    if l is not None: l.trainable = True \n",
        "        \n",
        "x = incept_model.output\n",
        "x = GlobalAveragePooling2D(data_format='channels_last')(x)\n",
        "x = BatchNormalization()(x)\n",
        "#x = Dense(1024, activation='relu')(x)\n",
        "#x = Dropout(0.2)(x)\n",
        "x = Dense(512, activation='relu')(x)\n",
        "#x = Dropout(0.2)(x)\n",
        "predictions = Dense(n_classes, activation='softmax')(x)\n",
        "\n",
        "model = Model(inputs=incept_model.input, outputs=predictions)        \n"
      ],
      "execution_count": 0,
      "outputs": [
        {
          "output_type": "stream",
          "text": [
            "WARNING:tensorflow:From /tensorflow-1.15.2/python3.6/tensorflow_core/python/ops/resource_variable_ops.py:1630: calling BaseResourceVariable.__init__ (from tensorflow.python.ops.resource_variable_ops) with constraint is deprecated and will be removed in a future version.\n",
            "Instructions for updating:\n",
            "If using Keras pass *_constraint arguments to layers.\n",
            "WARNING:tensorflow:From /usr/local/lib/python3.6/dist-packages/keras/backend/tensorflow_backend.py:4070: The name tf.nn.max_pool is deprecated. Please use tf.nn.max_pool2d instead.\n",
            "\n",
            "WARNING:tensorflow:From /usr/local/lib/python3.6/dist-packages/keras/backend/tensorflow_backend.py:4074: The name tf.nn.avg_pool is deprecated. Please use tf.nn.avg_pool2d instead.\n",
            "\n"
          ],
          "name": "stdout"
        }
      ]
    },
    {
      "cell_type": "code",
      "metadata": {
        "id": "b0Z8eN2KMk35",
        "colab_type": "code",
        "colab": {}
      },
      "source": [
        "#Configure the Model for training\n",
        "model.compile(Adam(lr=0.0001), \n",
        "              loss='binary_crossentropy',\n",
        "              metrics=['accuracy'])"
      ],
      "execution_count": 0,
      "outputs": []
    },
    {
      "cell_type": "code",
      "metadata": {
        "id": "GNZuuK4VMp7O",
        "colab_type": "code",
        "outputId": "d140a9eb-75c6-4060-9e31-d56367b0b901",
        "colab": {
          "base_uri": "https://localhost:8080/",
          "height": 1000
        }
      },
      "source": [
        "history = model.fit_generator(\n",
        "    aug.flow(x_train, y_train, batch_size=BS),\n",
        "    validation_data=(x_test, y_test),\n",
        "    steps_per_epoch=len(x_train) // BS,\n",
        "    epochs=EPOCHS, \n",
        "    verbose=1)"
      ],
      "execution_count": 0,
      "outputs": [
        {
          "output_type": "stream",
          "text": [
            "WARNING:tensorflow:From /tensorflow-1.15.2/python3.6/tensorflow_core/python/ops/math_grad.py:1424: where (from tensorflow.python.ops.array_ops) is deprecated and will be removed in a future version.\n",
            "Instructions for updating:\n",
            "Use tf.where in 2.0, which has the same broadcast rule as np.where\n",
            "WARNING:tensorflow:From /usr/local/lib/python3.6/dist-packages/keras/backend/tensorflow_backend.py:422: The name tf.global_variables is deprecated. Please use tf.compat.v1.global_variables instead.\n",
            "\n",
            "Epoch 1/50\n",
            "29/29 [==============================] - 38s 1s/step - loss: 1.2794 - accuracy: 0.7632 - val_loss: 1.7375 - val_accuracy: 0.5667\n",
            "Epoch 2/50\n",
            "29/29 [==============================] - 6s 201ms/step - loss: 1.1037 - accuracy: 0.8860 - val_loss: 1.4377 - val_accuracy: 0.6667\n",
            "Epoch 3/50\n",
            "29/29 [==============================] - 6s 201ms/step - loss: 0.9243 - accuracy: 0.9474 - val_loss: 1.5893 - val_accuracy: 0.5333\n",
            "Epoch 4/50\n",
            "29/29 [==============================] - 6s 201ms/step - loss: 1.1512 - accuracy: 0.8684 - val_loss: 2.0760 - val_accuracy: 0.4667\n",
            "Epoch 5/50\n",
            "29/29 [==============================] - 6s 202ms/step - loss: 0.9957 - accuracy: 0.9211 - val_loss: 1.4723 - val_accuracy: 0.6000\n",
            "Epoch 6/50\n",
            "29/29 [==============================] - 6s 201ms/step - loss: 0.9614 - accuracy: 0.9123 - val_loss: 1.3457 - val_accuracy: 0.7000\n",
            "Epoch 7/50\n",
            "29/29 [==============================] - 6s 202ms/step - loss: 0.8339 - accuracy: 0.9474 - val_loss: 1.5758 - val_accuracy: 0.6333\n",
            "Epoch 8/50\n",
            "29/29 [==============================] - 6s 197ms/step - loss: 0.8617 - accuracy: 0.9561 - val_loss: 1.9233 - val_accuracy: 0.5333\n",
            "Epoch 9/50\n",
            "29/29 [==============================] - 6s 199ms/step - loss: 0.8979 - accuracy: 0.9474 - val_loss: 1.8700 - val_accuracy: 0.5667\n",
            "Epoch 10/50\n",
            "29/29 [==============================] - 6s 196ms/step - loss: 1.1999 - accuracy: 0.8860 - val_loss: 1.1878 - val_accuracy: 0.7667\n",
            "Epoch 11/50\n",
            "29/29 [==============================] - 6s 206ms/step - loss: 0.9660 - accuracy: 0.9224 - val_loss: 1.3632 - val_accuracy: 0.7000\n",
            "Epoch 12/50\n",
            "29/29 [==============================] - 6s 200ms/step - loss: 0.9446 - accuracy: 0.9196 - val_loss: 1.9428 - val_accuracy: 0.6333\n",
            "Epoch 13/50\n",
            "29/29 [==============================] - 6s 203ms/step - loss: 1.0241 - accuracy: 0.9224 - val_loss: 1.1101 - val_accuracy: 0.8667\n",
            "Epoch 14/50\n",
            "29/29 [==============================] - 6s 200ms/step - loss: 0.9924 - accuracy: 0.9196 - val_loss: 0.9690 - val_accuracy: 0.9333\n",
            "Epoch 15/50\n",
            "29/29 [==============================] - 6s 203ms/step - loss: 0.8491 - accuracy: 0.9569 - val_loss: 1.1454 - val_accuracy: 0.9000\n",
            "Epoch 16/50\n",
            "29/29 [==============================] - 6s 203ms/step - loss: 1.0406 - accuracy: 0.9464 - val_loss: 1.6645 - val_accuracy: 0.7333\n",
            "Epoch 17/50\n",
            "29/29 [==============================] - 6s 210ms/step - loss: 1.0035 - accuracy: 0.9298 - val_loss: 1.0548 - val_accuracy: 0.9333\n",
            "Epoch 18/50\n",
            "29/29 [==============================] - 6s 204ms/step - loss: 1.0027 - accuracy: 0.9138 - val_loss: 0.8153 - val_accuracy: 0.9667\n",
            "Epoch 19/50\n",
            "29/29 [==============================] - 6s 202ms/step - loss: 0.9490 - accuracy: 0.9286 - val_loss: 0.9169 - val_accuracy: 0.9333\n",
            "Epoch 20/50\n",
            "29/29 [==============================] - 6s 205ms/step - loss: 0.8499 - accuracy: 0.9569 - val_loss: 0.8891 - val_accuracy: 0.9000\n",
            "Epoch 21/50\n",
            "29/29 [==============================] - 6s 203ms/step - loss: 0.9370 - accuracy: 0.9474 - val_loss: 1.3459 - val_accuracy: 0.6667\n",
            "Epoch 22/50\n",
            "29/29 [==============================] - 6s 201ms/step - loss: 0.9486 - accuracy: 0.9298 - val_loss: 1.1266 - val_accuracy: 0.8667\n",
            "Epoch 23/50\n",
            "29/29 [==============================] - 6s 204ms/step - loss: 0.8992 - accuracy: 0.9464 - val_loss: 1.1144 - val_accuracy: 0.8000\n",
            "Epoch 24/50\n",
            "29/29 [==============================] - 6s 204ms/step - loss: 0.9367 - accuracy: 0.9474 - val_loss: 1.2251 - val_accuracy: 0.7000\n",
            "Epoch 25/50\n",
            "29/29 [==============================] - 6s 208ms/step - loss: 0.9709 - accuracy: 0.9138 - val_loss: 1.2180 - val_accuracy: 0.7000\n",
            "Epoch 26/50\n",
            "29/29 [==============================] - 6s 203ms/step - loss: 0.8564 - accuracy: 0.9825 - val_loss: 1.1436 - val_accuracy: 0.8000\n",
            "Epoch 27/50\n",
            "29/29 [==============================] - 6s 200ms/step - loss: 0.9089 - accuracy: 0.9211 - val_loss: 1.3445 - val_accuracy: 0.6667\n",
            "Epoch 28/50\n",
            "29/29 [==============================] - 6s 204ms/step - loss: 0.8893 - accuracy: 0.9386 - val_loss: 1.6197 - val_accuracy: 0.5333\n",
            "Epoch 29/50\n",
            "29/29 [==============================] - 6s 203ms/step - loss: 0.8681 - accuracy: 0.9737 - val_loss: 1.7385 - val_accuracy: 0.5333\n",
            "Epoch 30/50\n",
            "29/29 [==============================] - 6s 202ms/step - loss: 0.8761 - accuracy: 0.9649 - val_loss: 2.2019 - val_accuracy: 0.5000\n",
            "Epoch 31/50\n",
            "29/29 [==============================] - 6s 204ms/step - loss: 0.8604 - accuracy: 0.9649 - val_loss: 2.0568 - val_accuracy: 0.6000\n",
            "Epoch 32/50\n",
            "29/29 [==============================] - 6s 206ms/step - loss: 0.8325 - accuracy: 0.9737 - val_loss: 3.1175 - val_accuracy: 0.4667\n",
            "Epoch 33/50\n",
            "29/29 [==============================] - 6s 210ms/step - loss: 0.9369 - accuracy: 0.9561 - val_loss: 2.9473 - val_accuracy: 0.4667\n",
            "Epoch 34/50\n",
            "29/29 [==============================] - 6s 217ms/step - loss: 0.8459 - accuracy: 0.9649 - val_loss: 2.3436 - val_accuracy: 0.5000\n",
            "Epoch 35/50\n",
            "29/29 [==============================] - 6s 211ms/step - loss: 0.8781 - accuracy: 0.9474 - val_loss: 2.5938 - val_accuracy: 0.4667\n",
            "Epoch 36/50\n",
            "29/29 [==============================] - 6s 205ms/step - loss: 0.8003 - accuracy: 0.9828 - val_loss: 3.1174 - val_accuracy: 0.4667\n",
            "Epoch 37/50\n",
            "29/29 [==============================] - 6s 208ms/step - loss: 0.8282 - accuracy: 0.9643 - val_loss: 1.2883 - val_accuracy: 0.8333\n",
            "Epoch 38/50\n",
            "29/29 [==============================] - 6s 215ms/step - loss: 0.7958 - accuracy: 0.9741 - val_loss: 1.5593 - val_accuracy: 0.7333\n",
            "Epoch 39/50\n",
            "29/29 [==============================] - 6s 212ms/step - loss: 0.8666 - accuracy: 0.9643 - val_loss: 4.0357 - val_accuracy: 0.5667\n",
            "Epoch 40/50\n",
            "29/29 [==============================] - 6s 213ms/step - loss: 0.8176 - accuracy: 0.9828 - val_loss: 3.3662 - val_accuracy: 0.6333\n",
            "Epoch 41/50\n",
            "29/29 [==============================] - 6s 215ms/step - loss: 0.8073 - accuracy: 0.9825 - val_loss: 0.9064 - val_accuracy: 0.9667\n",
            "Epoch 42/50\n",
            "29/29 [==============================] - 6s 209ms/step - loss: 0.9319 - accuracy: 0.9464 - val_loss: 0.9480 - val_accuracy: 0.9000\n",
            "Epoch 43/50\n",
            "29/29 [==============================] - 6s 215ms/step - loss: 0.8033 - accuracy: 0.9737 - val_loss: 1.1084 - val_accuracy: 0.8333\n",
            "Epoch 44/50\n",
            "29/29 [==============================] - 6s 217ms/step - loss: 0.9861 - accuracy: 0.9211 - val_loss: 1.6591 - val_accuracy: 0.7333\n",
            "Epoch 45/50\n",
            "29/29 [==============================] - 6s 214ms/step - loss: 0.8387 - accuracy: 0.9825 - val_loss: 2.1221 - val_accuracy: 0.6000\n",
            "Epoch 46/50\n",
            "29/29 [==============================] - 6s 214ms/step - loss: 0.7753 - accuracy: 0.9912 - val_loss: 2.0380 - val_accuracy: 0.5667\n",
            "Epoch 47/50\n",
            "29/29 [==============================] - 6s 217ms/step - loss: 0.8115 - accuracy: 0.9655 - val_loss: 1.1605 - val_accuracy: 0.7667\n",
            "Epoch 48/50\n",
            "29/29 [==============================] - 6s 212ms/step - loss: 0.8247 - accuracy: 0.9737 - val_loss: 0.8664 - val_accuracy: 0.9333\n",
            "Epoch 49/50\n",
            "29/29 [==============================] - 6s 208ms/step - loss: 0.8143 - accuracy: 0.9737 - val_loss: 2.8299 - val_accuracy: 0.7333\n",
            "Epoch 50/50\n",
            "29/29 [==============================] - 6s 208ms/step - loss: 0.8885 - accuracy: 0.9737 - val_loss: 1.6342 - val_accuracy: 0.8000\n"
          ],
          "name": "stdout"
        }
      ]
    },
    {
      "cell_type": "code",
      "metadata": {
        "id": "6IGN2lIcTUUM",
        "colab_type": "code",
        "outputId": "ddea457f-aa9e-4edb-a5a6-1a3d248b23bd",
        "colab": {
          "base_uri": "https://localhost:8080/",
          "height": 54
        }
      },
      "source": [
        "#Menampilkan akurasi\n",
        "score=model.evaluate(x_test,y_test, verbose=True)\n",
        "print(\"Test Accuracy : %0.02f %%\" % (score [1]*100))"
      ],
      "execution_count": 0,
      "outputs": [
        {
          "output_type": "stream",
          "text": [
            "\r30/30 [==============================] - 1s 27ms/step\n",
            "Test Accuracy : 80.00 %\n"
          ],
          "name": "stdout"
        }
      ]
    },
    {
      "cell_type": "code",
      "metadata": {
        "id": "TIubQAYoTdZx",
        "colab_type": "code",
        "outputId": "5c627910-ef39-4f0c-bcbf-5767042358f2",
        "colab": {
          "base_uri": "https://localhost:8080/",
          "height": 573
        }
      },
      "source": [
        "#Visualisasi akurasi dan loss\n",
        "\n",
        "acc = history.history['accuracy']\n",
        "val_acc = history.history['val_accuracy']\n",
        "loss = history.history['loss']\n",
        "val_loss = history.history['val_loss']\n",
        "epochs = range(1, len(acc) + 1)\n",
        "#Train and validation accuracy\n",
        "plt.plot(epochs, acc, 'b', label='Training accurarcy')\n",
        "plt.plot(epochs, val_acc, 'r', label='Validation accurarcy')\n",
        "plt.title('Training and Validation accurarcy - Inception v4')\n",
        "plt.ylabel('Accuracy')\n",
        "plt.xlabel('Number of Epochs')\n",
        "plt.legend()\n",
        "\n",
        "plt.figure()\n",
        "#Train and validation loss\n",
        "plt.plot(epochs, loss, 'b', label='Training loss')\n",
        "plt.plot(epochs, val_loss, 'r', label='Validation loss')\n",
        "plt.title('Training and Validation loss - Inception v4')\n",
        "plt.ylabel('loss')\n",
        "plt.xlabel('Number of Epochs')\n",
        "plt.legend()\n",
        "plt.show()"
      ],
      "execution_count": 0,
      "outputs": [
        {
          "output_type": "display_data",
          "data": {
            "image/png": "[encoded data removed]",
            "text/plain": [
              "<Figure size 432x288 with 1 Axes>"
            ]
          },
          "metadata": {
            "tags": [],
            "needs_background": "light"
          }
        },
        {
          "output_type": "display_data",
          "data": {
            "image/png": "[encoded data removed]",
            "text/plain": [
              "<Figure size 432x288 with 1 Axes>"
            ]
          },
          "metadata": {
            "tags": [],
            "needs_background": "light"
          }
        }
      ]
    }
  ]
}