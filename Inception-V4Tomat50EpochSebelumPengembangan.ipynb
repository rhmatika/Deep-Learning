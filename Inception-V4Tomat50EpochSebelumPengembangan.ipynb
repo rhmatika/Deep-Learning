{
  "nbformat": 4,
  "nbformat_minor": 0,
  "metadata": {
    "colab": {
      "name": "FixTugas4Tomat50Epoch.ipynb",
      "provenance": [],
      "collapsed_sections": []
    },
    "kernelspec": {
      "name": "python3",
      "display_name": "Python 3"
    },
    "accelerator": "GPU"
  },
  "cells": [
    {
      "cell_type": "code",
      "metadata": {
        "id": "PZ-hTIsZckpr",
        "colab_type": "code",
        "outputId": "aa779fae-786c-4ea7-dfb6-d5835403b7a7",
        "colab": {
          "base_uri": "https://localhost:8080/",
          "height": 50
        }
      },
      "source": [
        "%tensorflow_version 1.x\n",
        "import numpy as np\n",
        "import pickle\n",
        "import cv2\n",
        "from os import listdir\n",
        "from sklearn.preprocessing import LabelBinarizer\n",
        "from keras.models import Sequential\n",
        "from keras.models import Model\n",
        "from keras.layers import Conv2D, MaxPool2D,Dropout, Dense, Input,GlobalAveragePooling2D, AveragePooling2D,Flatten,Activation\n",
        "from keras.layers.normalization import BatchNormalization\n",
        "from keras import backend as K\n",
        "from keras.preprocessing.image import ImageDataGenerator\n",
        "from keras.optimizers import Adam,SGD,Adamax\n",
        "from keras.callbacks import LearningRateScheduler\n",
        "from keras.preprocessing import image\n",
        "from keras.preprocessing.image import img_to_array\n",
        "from sklearn.preprocessing import MultiLabelBinarizer\n",
        "from sklearn.model_selection import train_test_split\n",
        "import matplotlib.pyplot as plt\n",
        "from keras.layers.merge import concatenate\n",
        "import tensorflow as tf\n",
        "from keras.callbacks import ReduceLROnPlateau\n",
        "#!pip install tensorflow==2.0.0"
      ],
      "execution_count": 0,
      "outputs": [
        {
          "output_type": "stream",
          "text": [
            "TensorFlow 1.x selected.\n"
          ],
          "name": "stdout"
        },
        {
          "output_type": "stream",
          "text": [
            "Using TensorFlow backend.\n"
          ],
          "name": "stderr"
        }
      ]
    },
    {
      "cell_type": "code",
      "metadata": {
        "id": "F0RvIiGXc7Oy",
        "colab_type": "code",
        "outputId": "77d973d2-6598-4fad-8a2a-51223f2d11c8",
        "colab": {
          "base_uri": "https://localhost:8080/",
          "height": 121
        }
      },
      "source": [
        "from google.colab import drive\n",
        "drive.mount('/content/drive')"
      ],
      "execution_count": 0,
      "outputs": [
        {
          "output_type": "stream",
          "text": [
            "Go to this URL in a browser: https://accounts.google.com/o/oauth2/auth?client_id=947318989803-6bn6qk8qdgf4n4g3pfee6491hc0brc4i.apps.googleusercontent.com&redirect_uri=urn%3aietf%3awg%3aoauth%3a2.0%3aoob&response_type=code&scope=email%20https%3a%2f%2fwww.googleapis.com%2fauth%2fdocs.test%20https%3a%2f%2fwww.googleapis.com%2fauth%2fdrive%20https%3a%2f%2fwww.googleapis.com%2fauth%2fdrive.photos.readonly%20https%3a%2f%2fwww.googleapis.com%2fauth%2fpeopleapi.readonly\n",
            "\n",
            "Enter your authorization code:\n",
            "··········\n",
            "Mounted at /content/drive\n"
          ],
          "name": "stdout"
        }
      ]
    },
    {
      "cell_type": "code",
      "metadata": {
        "id": "YdkTmIhddMEe",
        "colab_type": "code",
        "colab": {}
      },
      "source": [
        "directory_root = '/content/drive/My Drive/TugasInceptionV4/'"
      ],
      "execution_count": 0,
      "outputs": []
    },
    {
      "cell_type": "code",
      "metadata": {
        "id": "lCYu_eJsdQ0Z",
        "colab_type": "code",
        "colab": {}
      },
      "source": [
        "def convert_image_to_array(image_dir):\n",
        "    try:\n",
        "        image = cv2.imread(image_dir)\n",
        "        if image is not None :\n",
        "            image = cv2.resize(image, tuple((224,224)))   \n",
        "            return img_to_array(image)\n",
        "        else :\n",
        "            return np.array([])\n",
        "    except Exception as e:\n",
        "        print(f\"Error : {e}\")\n",
        "        return None"
      ],
      "execution_count": 0,
      "outputs": []
    },
    {
      "cell_type": "code",
      "metadata": {
        "id": "IfOPc7EEdmjD",
        "colab_type": "code",
        "outputId": "e59f6a95-a152-4dda-fad9-f32926482e9f",
        "colab": {
          "base_uri": "https://localhost:8080/",
          "height": 151
        }
      },
      "source": [
        "image_list, label_list = [], []\n",
        "try:\n",
        "    print(\"[INFO] Loading images ...\")\n",
        "    root_dir = listdir(directory_root)\n",
        "    for directory in root_dir :\n",
        "        # remove .DS_Store from list\n",
        "        if directory == \".DS_Store\" :\n",
        "            root_dir.remove(directory)\n",
        "\n",
        "    for plant_folder in root_dir :\n",
        "        plant_disease_folder_list = listdir(f\"{directory_root}/{plant_folder}\")\n",
        "        \n",
        "        for disease_folder in plant_disease_folder_list :\n",
        "            # remove .DS_Store from list\n",
        "            if disease_folder == \".DS_Store\" :\n",
        "                plant_disease_folder_list.remove(disease_folder)\n",
        "\n",
        "        for plant_disease_folder in plant_disease_folder_list:\n",
        "            print(f\"[INFO] Processing {plant_disease_folder} ...\")\n",
        "            plant_disease_image_list = listdir(f\"{directory_root}/{plant_folder}/{plant_disease_folder}\")\n",
        "                \n",
        "            for single_plant_disease_image in plant_disease_image_list :\n",
        "                if single_plant_disease_image == \".DS_Store\" :\n",
        "                    plant_disease_image_list.remove(single_plant_disease_image)\n",
        "\n",
        "            for image in plant_disease_image_list[:200]:\n",
        "                image_directory = f\"{directory_root}/{plant_folder}/{plant_disease_folder}/{image}\"\n",
        "                if image_directory.endswith(\".jpg\") == True or image_directory.endswith(\".jpeg\") == True or image_directory.endswith(\".png\") == True or image_directory.endswith(\".JPG\") == True :\n",
        "                    image_list.append(convert_image_to_array(image_directory))\n",
        "                    label_list.append(plant_disease_folder)\n",
        "    print(\"[INFO] Image loading completed\")  \n",
        "except Exception as e:\n",
        "    print(f\"Error : {e}\")"
      ],
      "execution_count": 0,
      "outputs": [
        {
          "output_type": "stream",
          "text": [
            "[INFO] Loading images ...\n",
            "[INFO] Processing Tomato___Bacterial_spot ...\n",
            "[INFO] Processing Tomato___Septoria_leaf_spot ...\n",
            "[INFO] Processing Tomato___Late_blight ...\n",
            "[INFO] Processing Tomato___Early_blight ...\n",
            "[INFO] Processing Tomato___Leaf_Mold ...\n",
            "[INFO] Processing Tomato___Tomato_Yellow_Leaf_Curl_Virus ...\n",
            "Error : [Errno 20] Not a directory: '/content/drive/My Drive/TugasInceptionV4//label_transform.pkl'\n"
          ],
          "name": "stdout"
        }
      ]
    },
    {
      "cell_type": "code",
      "metadata": {
        "id": "Mxx5sjiCnlLb",
        "colab_type": "code",
        "outputId": "4efffc52-c4ab-4621-cf1b-553c98738cab",
        "colab": {
          "base_uri": "https://localhost:8080/",
          "height": 34
        }
      },
      "source": [
        "image_size = len(image_list)\n",
        "image_size"
      ],
      "execution_count": 0,
      "outputs": [
        {
          "output_type": "execute_result",
          "data": {
            "text/plain": [
              "1200"
            ]
          },
          "metadata": {
            "tags": []
          },
          "execution_count": 6
        }
      ]
    },
    {
      "cell_type": "code",
      "metadata": {
        "id": "ff4zeHlCnoD7",
        "colab_type": "code",
        "colab": {}
      },
      "source": [
        "label_binarizer = LabelBinarizer()\n",
        "image_labels = label_binarizer.fit_transform(label_list)\n",
        "pickle.dump(label_binarizer,open('label_transform.pkl', 'wb'))\n",
        "n_classes = len(label_binarizer.classes_)"
      ],
      "execution_count": 0,
      "outputs": []
    },
    {
      "cell_type": "code",
      "metadata": {
        "id": "bYqvbym2nqZC",
        "colab_type": "code",
        "outputId": "8b985803-f3ce-479e-bcc6-bf79cdaeac2c",
        "colab": {
          "base_uri": "https://localhost:8080/",
          "height": 67
        }
      },
      "source": [
        "print(label_binarizer.classes_)"
      ],
      "execution_count": 0,
      "outputs": [
        {
          "output_type": "stream",
          "text": [
            "['Tomato___Bacterial_spot' 'Tomato___Early_blight' 'Tomato___Late_blight'\n",
            " 'Tomato___Leaf_Mold' 'Tomato___Septoria_leaf_spot'\n",
            " 'Tomato___Tomato_Yellow_Leaf_Curl_Virus']\n"
          ],
          "name": "stdout"
        }
      ]
    },
    {
      "cell_type": "code",
      "metadata": {
        "id": "6dt3Q_y7nt2q",
        "colab_type": "code",
        "colab": {}
      },
      "source": [
        "np_image_list = np.array(image_list, dtype=np.float16) / 225.0"
      ],
      "execution_count": 0,
      "outputs": []
    },
    {
      "cell_type": "code",
      "metadata": {
        "id": "abL0TFLTnvxl",
        "colab_type": "code",
        "outputId": "7fb7852f-fd70-41a3-df9b-d1db1792adbd",
        "colab": {
          "base_uri": "https://localhost:8080/",
          "height": 34
        }
      },
      "source": [
        "print(\"[INFO] Spliting data to train, test\")\n",
        "x_train, x_test, y_train, y_test = train_test_split(np_image_list,image_labels, test_size=0.2 , random_state =42) "
      ],
      "execution_count": 0,
      "outputs": [
        {
          "output_type": "stream",
          "text": [
            "[INFO] Spliting data to train, test\n"
          ],
          "name": "stdout"
        }
      ]
    },
    {
      "cell_type": "code",
      "metadata": {
        "id": "Xkan5Ntpnx_s",
        "colab_type": "code",
        "colab": {}
      },
      "source": [
        "#Define a function for a convolutional layer with batch normalization\n",
        "#The commands in this function will be used very much, so it's simpler to define this function once. \n",
        "def conv(input_, filters_, kernel_, strides_, bias_, padding_):\n",
        "    conv_ = Conv2D(filters=filters_, kernel_size=kernel_, strides=strides_, use_bias=bias_, padding=padding_)(input_)\n",
        "    #The batch normalization helps to prevent overfitting and better learning results by removing the covariance shift.\n",
        "    conv_ = BatchNormalization(axis = -1, momentum = 0.9997, scale = False)(conv_)\n",
        "    conv_ = Activation(\"relu\")(conv_)\n",
        "    return conv_"
      ],
      "execution_count": 0,
      "outputs": []
    },
    {
      "cell_type": "code",
      "metadata": {
        "id": "cARQPIxrn1a_",
        "colab_type": "code",
        "colab": {}
      },
      "source": [
        "#All kinds of inception networks starting with a stem. The stem preprocesses \n",
        "#the input.\n",
        "def stem(input_):\n",
        "    #First convolutional block\n",
        "    stem_ = conv(input_, 32, (3,3), (2,2), False, \"valid\")\n",
        "    stem_ = conv(stem_, 32, (1,3), (1,1), False, \"same\")\n",
        "    stem_ = conv(stem_, 32, (3,1), (1,1), False, \"same\")\n",
        "    stem_ = conv(stem_, 64, (1,3), (1,1), False, \"same\")\n",
        "    stem_ = conv(stem_, 64, (3,1), (1,1), False, \"same\")\n",
        "    \n",
        "    #Instead of going deeper the network will becoming wider!\n",
        "    stem_1 = conv(stem_, 96, (3,3), (2,2), False, \"valid\")\n",
        "    stem_2 = MaxPool2D(pool_size=(3,3), strides=(2,2), padding=\"valid\")(stem_)\n",
        "    #Concatenate stem_1 and stem_2\n",
        "    stem_ = concatenate([stem_1, stem_2], axis = -1)\n",
        "    \n",
        "    #In the next block we will also parallize two convolutional blocks\n",
        "    #Here I reuse the two variable names from above\n",
        "    stem_1 = conv(stem_, 64, (1,1), (1,1), False, \"same\")\n",
        "    stem_1 = conv(stem_1, 64, (7,1), (1,1), False, \"same\")\n",
        "    stem_1 = conv(stem_1, 64, (1,7), (1,1), False, \"same\")\n",
        "    stem_1 = conv(stem_1, 96, (1,3), (1,1), False, \"valid\")\n",
        "    stem_1 = conv(stem_1, 96, (3,1), (1,1), False, \"valid\")\n",
        "    stem_2 = conv(stem_, 64, (1,1), (1,1), False, \"same\")\n",
        "    stem_2 = conv(stem_2, 96, (3,3), (1,1), False, \"valid\")\n",
        "    #Concatenate stem_1 and stem_2\n",
        "    stem_ = concatenate([stem_1, stem_2], axis = -1)\n",
        "    \n",
        "    #Third concatenation block\n",
        "    #Reuse stem_1 and stem_2\n",
        "    stem_1 = MaxPool2D(pool_size=(1,1), strides=(2,2), padding=\"valid\")(stem_)\n",
        "    stem_2 = stem_1 = conv(stem_, 192, (3,3), (1,1), False, \"valid\")\n",
        "    #Concatenate stem_1 and stem_2\n",
        "    stem_ = concatenate([stem_1, stem_2], axis = -1)\n",
        "    \n",
        "    return stem_  "
      ],
      "execution_count": 0,
      "outputs": []
    },
    {
      "cell_type": "code",
      "metadata": {
        "id": "GO46g9_Pn4Dl",
        "colab_type": "code",
        "colab": {}
      },
      "source": [
        "def inception_A(input_):\n",
        "    #In this block we parallize four convolutional blocks\n",
        "    #First\n",
        "    A_1 = conv(input_, 64, (1,1), (1,1), False, \"same\")\n",
        "    A_1 = conv(A_1, 96, (1,3), (1,1), False, \"same\")\n",
        "    A_1 = conv(A_1, 96, (3,1), (1,1), False, \"same\")\n",
        "    A_1 = conv(A_1, 96, (1,3), (1,1), False, \"same\")\n",
        "    \n",
        "    \n",
        "    #Second\n",
        "    A_2 = conv(input_, 64, (1,1), (1,1), False, \"same\")\n",
        "    A_2 = conv(A_2, 96, (1,3), (1,1), False, \"same\")\n",
        "    A_2 = conv(A_2, 96, (3,1), (1,1), False, \"same\")\n",
        "    \n",
        "    #Third\n",
        "    A_3 = conv(input_, 96, (1,1), (1,1), False, \"same\")\n",
        "    \n",
        "    #Fourth\n",
        "    A_4 = AveragePooling2D((3, 3), strides = (1, 1), padding = \"same\")(input_)\n",
        "    A_4 = conv(A_4, 96, (1,1), (1,1), False, \"same\")\n",
        "    \n",
        "    A = concatenate([A_1, A_2, A_3, A_4], axis=-1)\n",
        "    \n",
        "    return A    \n",
        "    "
      ],
      "execution_count": 0,
      "outputs": []
    },
    {
      "cell_type": "code",
      "metadata": {
        "id": "U79A8hMHn6Ov",
        "colab_type": "code",
        "colab": {}
      },
      "source": [
        "def inception_B(input_):\n",
        "    #Similiar to A\n",
        "    #In this block we also parallize four convolutional blocks\n",
        "    \n",
        "    #First\n",
        "    B_1 = conv(input_, 192, (1,1), (1,1), False, \"same\")\n",
        "    B_1 = conv(B_1, 192, (1,7), (1,1), False, \"same\")\n",
        "    B_1 = conv(B_1, 224, (7,1), (1,1), False, \"same\")\n",
        "    B_1 = conv(B_1, 224, (1,7), (1,1), False, \"same\")\n",
        "    B_1 = conv(B_1, 256, (7,1), (1,1), False, \"same\")\n",
        "    \n",
        "    #Second\n",
        "    B_2 = conv(input_, 192, (1,1), (1,1), False, \"same\")\n",
        "    B_2 = conv(B_2, 224, (7,1), (1,1), False, \"same\")\n",
        "    B_2 = conv(B_2, 256, (1,7), (1,1), False, \"same\")\n",
        "    \n",
        "    #Third\n",
        "    B_3 = conv(input_, 384, (1,1), (1,1), False, \"same\")\n",
        "    \n",
        "    #Fourth\n",
        "    B_4 = AveragePooling2D((3, 3), strides = (1, 1), padding = \"same\")(input_)\n",
        "    B_4 = conv(B_4, 128, (1,1), (1,1), False, \"same\")\n",
        "    \n",
        "    B = concatenate([B_1, B_2, B_3, B_4], axis=-1)\n",
        "    \n",
        "    return B    "
      ],
      "execution_count": 0,
      "outputs": []
    },
    {
      "cell_type": "code",
      "metadata": {
        "id": "9qReZNAwn8kg",
        "colab_type": "code",
        "colab": {}
      },
      "source": [
        "def inception_C(input_):\n",
        "    #This block is different to the structures of the other two blocks\n",
        "    \n",
        "    #First\n",
        "    C_1 = conv(input_, 384, (1,1), (1,1), False, \"same\")\n",
        "    C_1 = conv(C_1, 448, (1,3), (1,1), False, \"same\")\n",
        "    C_1 = conv(C_1, 512, (3,1), (1,1), False, \"same\")\n",
        "    #Split it up again\n",
        "    C_11 = conv(C_1, 256, (1,3), (1,1), False, \"same\")\n",
        "    C_12 = conv(C_1, 256, (3,1), (1,1), False, \"same\")\n",
        "    #Concatenate it again\n",
        "    C_1 = concatenate([C_11, C_12], axis=-1)\n",
        "    \n",
        "    #Second\n",
        "    C_2 = conv(input_, 384, (1,1), (1,1), False, \"same\")\n",
        "    #Split it up again\n",
        "    C_21 = conv(C_2, 256, (1,3), (1,1), False, \"same\")\n",
        "    C_22 = conv(C_2, 256, (3,1), (1,1), False, \"same\")\n",
        "    #Concatenate it again\n",
        "    C_2 = concatenate([C_21, C_22], axis=-1)\n",
        "    \n",
        "    #Third\n",
        "    C_3 = conv(input_, 256, (1,1), (1,1), False, \"same\")\n",
        "    \n",
        "    #Fourth\n",
        "    C_4 = AveragePooling2D((3, 3), strides = (1, 1), padding = \"same\")(input_)\n",
        "    C_4 = conv(C_4, 128, (1,1), (1,1), False, \"same\")\n",
        "    \n",
        "    C = concatenate([C_1, C_2, C_3, C_4], axis=-1)\n",
        "    \n",
        "    return C"
      ],
      "execution_count": 0,
      "outputs": []
    },
    {
      "cell_type": "code",
      "metadata": {
        "id": "lzfUiKzmn--p",
        "colab_type": "code",
        "colab": {}
      },
      "source": [
        "def reduction_1(input_):\n",
        "    #Three parallized branches\n",
        "    #We must choose four parameters (k,l,m,n) depending on the used network\n",
        "    #The parameters are listed in a look up table in Paper 2\n",
        "    k = 192\n",
        "    l = 224\n",
        "    m = 256\n",
        "    n = 384\n",
        "    \n",
        "    #First\n",
        "    R_1 = conv(input_, k, (1,1), (1,1), False, \"same\")\n",
        "    R_1 = conv(R_1, l, (1,3), (1,1), False, \"same\")\n",
        "    R_1 = conv(R_1, l, (3,1), (1,1), False, \"same\")\n",
        "    R_1 = conv(R_1, m, (3,3), (2,2), False, \"same\")\n",
        "    \n",
        "    #Second\n",
        "    R_2 = conv(input_, n, (1,3), (2,2), False, \"same\")\n",
        "    R_2 = conv(input_, n, (3,1), (2,2), False, \"same\")\n",
        "    \n",
        "    #Third\n",
        "    R_3 = MaxPool2D(pool_size=(3,3), strides=(2,2), padding=\"same\")(input_)\n",
        "    \n",
        "    R = concatenate([R_1, R_2, R_3], axis=-1)\n",
        "    \n",
        "    return R"
      ],
      "execution_count": 0,
      "outputs": []
    },
    {
      "cell_type": "code",
      "metadata": {
        "id": "zoPfZkYloBam",
        "colab_type": "code",
        "colab": {}
      },
      "source": [
        "def reduction_2(input_):\n",
        "    #Second reduction module\n",
        "    \n",
        "    #First\n",
        "    R_1 = conv(input_, 256, (1,1), (1,1), False, \"same\")\n",
        "    R_1 = conv(R_1, 256, (1,7), (1,1), False, \"same\")\n",
        "    R_1 = conv(R_1, 320, (7,1), (1,1), False, \"same\")\n",
        "    R_1 = conv(R_1, 320, (3,3), (2,2), False, \"same\")\n",
        "    \n",
        "    #Second\n",
        "    R_2 = conv(input_, 192, (1,1), (1,1), False, \"same\")\n",
        "    R_2 = conv(R_2, 192, (1,1), (2,2), False, \"same\")\n",
        "    \n",
        "    #Third\n",
        "    R_3 = MaxPool2D(pool_size=(3,3), strides=(2,2), padding=\"same\")(input_)\n",
        "    \n",
        "    R = concatenate([R_1, R_2, R_3], axis=-1)\n",
        "    \n",
        "    return R"
      ],
      "execution_count": 0,
      "outputs": []
    },
    {
      "cell_type": "code",
      "metadata": {
        "id": "TpWL9L9uoDl8",
        "colab_type": "code",
        "colab": {}
      },
      "source": [
        "def pure_inception_v4(load_weights=True):\n",
        "    \n",
        "    starter = Input((224, 224, 3))\n",
        "    \n",
        "    #Start with the stem\n",
        "    inc = stem(starter)\n",
        "    \n",
        "    #inception block A\n",
        "    inc = inception_A(inc)\n",
        "    inc = Dropout(0.2)(inc)\n",
        "    \n",
        "    #First Reduction\n",
        "    inc = reduction_1(inc)\n",
        "    \n",
        "    #innception block B\n",
        "    inc = inception_B(inc)    \n",
        "    inc = Dropout(0.2)(inc)\n",
        "    \n",
        "    #Second Reduction\n",
        "    inc = reduction_2(inc)\n",
        "    \n",
        "    #inception block C\n",
        "    inc = inception_C(inc)\n",
        "    \n",
        "    #Average pooling\n",
        "    inc = AveragePooling2D((3, 3))(inc)\n",
        "\n",
        "    # Dropout\n",
        "    inc = Dropout(0.2)(inc) # Keep dropout 0.2 as mentioned in the paper\n",
        "    inc = Flatten()(inc)\n",
        "\n",
        "    # Output layer\n",
        "    output = Dense(units = 6 , activation = \"softmax\")(inc)\n",
        "    \n",
        "    model = Model(starter, output, name = \"Inception-v4\")   \n",
        "        \n",
        "    return model    \n"
      ],
      "execution_count": 0,
      "outputs": []
    },
    {
      "cell_type": "code",
      "metadata": {
        "id": "0moYIQTdoGZY",
        "colab_type": "code",
        "outputId": "4e64494c-faf0-4e01-c2ec-af25a1c82ad5",
        "colab": {
          "base_uri": "https://localhost:8080/",
          "height": 154
        }
      },
      "source": [
        "Model = pure_inception_v4()"
      ],
      "execution_count": 0,
      "outputs": [
        {
          "output_type": "stream",
          "text": [
            "WARNING:tensorflow:From /tensorflow-1.15.2/python3.6/tensorflow_core/python/ops/resource_variable_ops.py:1630: calling BaseResourceVariable.__init__ (from tensorflow.python.ops.resource_variable_ops) with constraint is deprecated and will be removed in a future version.\n",
            "Instructions for updating:\n",
            "If using Keras pass *_constraint arguments to layers.\n",
            "WARNING:tensorflow:From /usr/local/lib/python3.6/dist-packages/keras/backend/tensorflow_backend.py:4070: The name tf.nn.max_pool is deprecated. Please use tf.nn.max_pool2d instead.\n",
            "\n",
            "WARNING:tensorflow:From /usr/local/lib/python3.6/dist-packages/keras/backend/tensorflow_backend.py:4074: The name tf.nn.avg_pool is deprecated. Please use tf.nn.avg_pool2d instead.\n",
            "\n"
          ],
          "name": "stdout"
        }
      ]
    },
    {
      "cell_type": "code",
      "metadata": {
        "id": "UtW0Qiy7oMoV",
        "colab_type": "code",
        "outputId": "5ff0710f-2d23-4358-c64b-89ad4da373d6",
        "colab": {
          "base_uri": "https://localhost:8080/",
          "height": 1000
        }
      },
      "source": [
        "print(Model.summary())"
      ],
      "execution_count": 0,
      "outputs": [
        {
          "output_type": "stream",
          "text": [
            "Model: \"Inception-v4\"\n",
            "__________________________________________________________________________________________________\n",
            "Layer (type)                    Output Shape         Param #     Connected to                     \n",
            "==================================================================================================\n",
            "input_1 (InputLayer)            (None, 224, 224, 3)  0                                            \n",
            "__________________________________________________________________________________________________\n",
            "conv2d_1 (Conv2D)               (None, 111, 111, 32) 864         input_1[0][0]                    \n",
            "__________________________________________________________________________________________________\n",
            "batch_normalization_1 (BatchNor (None, 111, 111, 32) 96          conv2d_1[0][0]                   \n",
            "__________________________________________________________________________________________________\n",
            "activation_1 (Activation)       (None, 111, 111, 32) 0           batch_normalization_1[0][0]      \n",
            "__________________________________________________________________________________________________\n",
            "conv2d_2 (Conv2D)               (None, 111, 111, 32) 3072        activation_1[0][0]               \n",
            "__________________________________________________________________________________________________\n",
            "batch_normalization_2 (BatchNor (None, 111, 111, 32) 96          conv2d_2[0][0]                   \n",
            "__________________________________________________________________________________________________\n",
            "activation_2 (Activation)       (None, 111, 111, 32) 0           batch_normalization_2[0][0]      \n",
            "__________________________________________________________________________________________________\n",
            "conv2d_3 (Conv2D)               (None, 111, 111, 32) 3072        activation_2[0][0]               \n",
            "__________________________________________________________________________________________________\n",
            "batch_normalization_3 (BatchNor (None, 111, 111, 32) 96          conv2d_3[0][0]                   \n",
            "__________________________________________________________________________________________________\n",
            "activation_3 (Activation)       (None, 111, 111, 32) 0           batch_normalization_3[0][0]      \n",
            "__________________________________________________________________________________________________\n",
            "conv2d_4 (Conv2D)               (None, 111, 111, 64) 6144        activation_3[0][0]               \n",
            "__________________________________________________________________________________________________\n",
            "batch_normalization_4 (BatchNor (None, 111, 111, 64) 192         conv2d_4[0][0]                   \n",
            "__________________________________________________________________________________________________\n",
            "activation_4 (Activation)       (None, 111, 111, 64) 0           batch_normalization_4[0][0]      \n",
            "__________________________________________________________________________________________________\n",
            "conv2d_5 (Conv2D)               (None, 111, 111, 64) 12288       activation_4[0][0]               \n",
            "__________________________________________________________________________________________________\n",
            "batch_normalization_5 (BatchNor (None, 111, 111, 64) 192         conv2d_5[0][0]                   \n",
            "__________________________________________________________________________________________________\n",
            "activation_5 (Activation)       (None, 111, 111, 64) 0           batch_normalization_5[0][0]      \n",
            "__________________________________________________________________________________________________\n",
            "conv2d_6 (Conv2D)               (None, 55, 55, 96)   55296       activation_5[0][0]               \n",
            "__________________________________________________________________________________________________\n",
            "batch_normalization_6 (BatchNor (None, 55, 55, 96)   288         conv2d_6[0][0]                   \n",
            "__________________________________________________________________________________________________\n",
            "activation_6 (Activation)       (None, 55, 55, 96)   0           batch_normalization_6[0][0]      \n",
            "__________________________________________________________________________________________________\n",
            "max_pooling2d_1 (MaxPooling2D)  (None, 55, 55, 64)   0           activation_5[0][0]               \n",
            "__________________________________________________________________________________________________\n",
            "concatenate_1 (Concatenate)     (None, 55, 55, 160)  0           activation_6[0][0]               \n",
            "                                                                 max_pooling2d_1[0][0]            \n",
            "__________________________________________________________________________________________________\n",
            "conv2d_7 (Conv2D)               (None, 55, 55, 64)   10240       concatenate_1[0][0]              \n",
            "__________________________________________________________________________________________________\n",
            "batch_normalization_7 (BatchNor (None, 55, 55, 64)   192         conv2d_7[0][0]                   \n",
            "__________________________________________________________________________________________________\n",
            "activation_7 (Activation)       (None, 55, 55, 64)   0           batch_normalization_7[0][0]      \n",
            "__________________________________________________________________________________________________\n",
            "conv2d_8 (Conv2D)               (None, 55, 55, 64)   28672       activation_7[0][0]               \n",
            "__________________________________________________________________________________________________\n",
            "batch_normalization_8 (BatchNor (None, 55, 55, 64)   192         conv2d_8[0][0]                   \n",
            "__________________________________________________________________________________________________\n",
            "activation_8 (Activation)       (None, 55, 55, 64)   0           batch_normalization_8[0][0]      \n",
            "__________________________________________________________________________________________________\n",
            "conv2d_9 (Conv2D)               (None, 55, 55, 64)   28672       activation_8[0][0]               \n",
            "__________________________________________________________________________________________________\n",
            "batch_normalization_9 (BatchNor (None, 55, 55, 64)   192         conv2d_9[0][0]                   \n",
            "__________________________________________________________________________________________________\n",
            "activation_9 (Activation)       (None, 55, 55, 64)   0           batch_normalization_9[0][0]      \n",
            "__________________________________________________________________________________________________\n",
            "conv2d_10 (Conv2D)              (None, 55, 53, 96)   18432       activation_9[0][0]               \n",
            "__________________________________________________________________________________________________\n",
            "conv2d_12 (Conv2D)              (None, 55, 55, 64)   10240       concatenate_1[0][0]              \n",
            "__________________________________________________________________________________________________\n",
            "batch_normalization_10 (BatchNo (None, 55, 53, 96)   288         conv2d_10[0][0]                  \n",
            "__________________________________________________________________________________________________\n",
            "batch_normalization_12 (BatchNo (None, 55, 55, 64)   192         conv2d_12[0][0]                  \n",
            "__________________________________________________________________________________________________\n",
            "activation_10 (Activation)      (None, 55, 53, 96)   0           batch_normalization_10[0][0]     \n",
            "__________________________________________________________________________________________________\n",
            "activation_12 (Activation)      (None, 55, 55, 64)   0           batch_normalization_12[0][0]     \n",
            "__________________________________________________________________________________________________\n",
            "conv2d_11 (Conv2D)              (None, 53, 53, 96)   27648       activation_10[0][0]              \n",
            "__________________________________________________________________________________________________\n",
            "conv2d_13 (Conv2D)              (None, 53, 53, 96)   55296       activation_12[0][0]              \n",
            "__________________________________________________________________________________________________\n",
            "batch_normalization_11 (BatchNo (None, 53, 53, 96)   288         conv2d_11[0][0]                  \n",
            "__________________________________________________________________________________________________\n",
            "batch_normalization_13 (BatchNo (None, 53, 53, 96)   288         conv2d_13[0][0]                  \n",
            "__________________________________________________________________________________________________\n",
            "activation_11 (Activation)      (None, 53, 53, 96)   0           batch_normalization_11[0][0]     \n",
            "__________________________________________________________________________________________________\n",
            "activation_13 (Activation)      (None, 53, 53, 96)   0           batch_normalization_13[0][0]     \n",
            "__________________________________________________________________________________________________\n",
            "concatenate_2 (Concatenate)     (None, 53, 53, 192)  0           activation_11[0][0]              \n",
            "                                                                 activation_13[0][0]              \n",
            "__________________________________________________________________________________________________\n",
            "conv2d_14 (Conv2D)              (None, 51, 51, 192)  331776      concatenate_2[0][0]              \n",
            "__________________________________________________________________________________________________\n",
            "batch_normalization_14 (BatchNo (None, 51, 51, 192)  576         conv2d_14[0][0]                  \n",
            "__________________________________________________________________________________________________\n",
            "activation_14 (Activation)      (None, 51, 51, 192)  0           batch_normalization_14[0][0]     \n",
            "__________________________________________________________________________________________________\n",
            "concatenate_3 (Concatenate)     (None, 51, 51, 384)  0           activation_14[0][0]              \n",
            "                                                                 activation_14[0][0]              \n",
            "__________________________________________________________________________________________________\n",
            "conv2d_15 (Conv2D)              (None, 51, 51, 64)   24576       concatenate_3[0][0]              \n",
            "__________________________________________________________________________________________________\n",
            "batch_normalization_15 (BatchNo (None, 51, 51, 64)   192         conv2d_15[0][0]                  \n",
            "__________________________________________________________________________________________________\n",
            "activation_15 (Activation)      (None, 51, 51, 64)   0           batch_normalization_15[0][0]     \n",
            "__________________________________________________________________________________________________\n",
            "conv2d_16 (Conv2D)              (None, 51, 51, 96)   18432       activation_15[0][0]              \n",
            "__________________________________________________________________________________________________\n",
            "conv2d_19 (Conv2D)              (None, 51, 51, 64)   24576       concatenate_3[0][0]              \n",
            "__________________________________________________________________________________________________\n",
            "batch_normalization_16 (BatchNo (None, 51, 51, 96)   288         conv2d_16[0][0]                  \n",
            "__________________________________________________________________________________________________\n",
            "batch_normalization_19 (BatchNo (None, 51, 51, 64)   192         conv2d_19[0][0]                  \n",
            "__________________________________________________________________________________________________\n",
            "activation_16 (Activation)      (None, 51, 51, 96)   0           batch_normalization_16[0][0]     \n",
            "__________________________________________________________________________________________________\n",
            "activation_19 (Activation)      (None, 51, 51, 64)   0           batch_normalization_19[0][0]     \n",
            "__________________________________________________________________________________________________\n",
            "conv2d_17 (Conv2D)              (None, 51, 51, 96)   27648       activation_16[0][0]              \n",
            "__________________________________________________________________________________________________\n",
            "conv2d_20 (Conv2D)              (None, 51, 51, 96)   18432       activation_19[0][0]              \n",
            "__________________________________________________________________________________________________\n",
            "batch_normalization_17 (BatchNo (None, 51, 51, 96)   288         conv2d_17[0][0]                  \n",
            "__________________________________________________________________________________________________\n",
            "batch_normalization_20 (BatchNo (None, 51, 51, 96)   288         conv2d_20[0][0]                  \n",
            "__________________________________________________________________________________________________\n",
            "activation_17 (Activation)      (None, 51, 51, 96)   0           batch_normalization_17[0][0]     \n",
            "__________________________________________________________________________________________________\n",
            "activation_20 (Activation)      (None, 51, 51, 96)   0           batch_normalization_20[0][0]     \n",
            "__________________________________________________________________________________________________\n",
            "average_pooling2d_1 (AveragePoo (None, 51, 51, 384)  0           concatenate_3[0][0]              \n",
            "__________________________________________________________________________________________________\n",
            "conv2d_18 (Conv2D)              (None, 51, 51, 96)   27648       activation_17[0][0]              \n",
            "__________________________________________________________________________________________________\n",
            "conv2d_21 (Conv2D)              (None, 51, 51, 96)   27648       activation_20[0][0]              \n",
            "__________________________________________________________________________________________________\n",
            "conv2d_22 (Conv2D)              (None, 51, 51, 96)   36864       concatenate_3[0][0]              \n",
            "__________________________________________________________________________________________________\n",
            "conv2d_23 (Conv2D)              (None, 51, 51, 96)   36864       average_pooling2d_1[0][0]        \n",
            "__________________________________________________________________________________________________\n",
            "batch_normalization_18 (BatchNo (None, 51, 51, 96)   288         conv2d_18[0][0]                  \n",
            "__________________________________________________________________________________________________\n",
            "batch_normalization_21 (BatchNo (None, 51, 51, 96)   288         conv2d_21[0][0]                  \n",
            "__________________________________________________________________________________________________\n",
            "batch_normalization_22 (BatchNo (None, 51, 51, 96)   288         conv2d_22[0][0]                  \n",
            "__________________________________________________________________________________________________\n",
            "batch_normalization_23 (BatchNo (None, 51, 51, 96)   288         conv2d_23[0][0]                  \n",
            "__________________________________________________________________________________________________\n",
            "activation_18 (Activation)      (None, 51, 51, 96)   0           batch_normalization_18[0][0]     \n",
            "__________________________________________________________________________________________________\n",
            "activation_21 (Activation)      (None, 51, 51, 96)   0           batch_normalization_21[0][0]     \n",
            "__________________________________________________________________________________________________\n",
            "activation_22 (Activation)      (None, 51, 51, 96)   0           batch_normalization_22[0][0]     \n",
            "__________________________________________________________________________________________________\n",
            "activation_23 (Activation)      (None, 51, 51, 96)   0           batch_normalization_23[0][0]     \n",
            "__________________________________________________________________________________________________\n",
            "concatenate_4 (Concatenate)     (None, 51, 51, 384)  0           activation_18[0][0]              \n",
            "                                                                 activation_21[0][0]              \n",
            "                                                                 activation_22[0][0]              \n",
            "                                                                 activation_23[0][0]              \n",
            "__________________________________________________________________________________________________\n",
            "dropout_1 (Dropout)             (None, 51, 51, 384)  0           concatenate_4[0][0]              \n",
            "__________________________________________________________________________________________________\n",
            "conv2d_24 (Conv2D)              (None, 51, 51, 192)  73728       dropout_1[0][0]                  \n",
            "__________________________________________________________________________________________________\n",
            "batch_normalization_24 (BatchNo (None, 51, 51, 192)  576         conv2d_24[0][0]                  \n",
            "__________________________________________________________________________________________________\n",
            "activation_24 (Activation)      (None, 51, 51, 192)  0           batch_normalization_24[0][0]     \n",
            "__________________________________________________________________________________________________\n",
            "conv2d_25 (Conv2D)              (None, 51, 51, 224)  129024      activation_24[0][0]              \n",
            "__________________________________________________________________________________________________\n",
            "batch_normalization_25 (BatchNo (None, 51, 51, 224)  672         conv2d_25[0][0]                  \n",
            "__________________________________________________________________________________________________\n",
            "activation_25 (Activation)      (None, 51, 51, 224)  0           batch_normalization_25[0][0]     \n",
            "__________________________________________________________________________________________________\n",
            "conv2d_26 (Conv2D)              (None, 51, 51, 224)  150528      activation_25[0][0]              \n",
            "__________________________________________________________________________________________________\n",
            "batch_normalization_26 (BatchNo (None, 51, 51, 224)  672         conv2d_26[0][0]                  \n",
            "__________________________________________________________________________________________________\n",
            "activation_26 (Activation)      (None, 51, 51, 224)  0           batch_normalization_26[0][0]     \n",
            "__________________________________________________________________________________________________\n",
            "conv2d_27 (Conv2D)              (None, 26, 26, 256)  516096      activation_26[0][0]              \n",
            "__________________________________________________________________________________________________\n",
            "conv2d_29 (Conv2D)              (None, 26, 26, 384)  442368      dropout_1[0][0]                  \n",
            "__________________________________________________________________________________________________\n",
            "batch_normalization_27 (BatchNo (None, 26, 26, 256)  768         conv2d_27[0][0]                  \n",
            "__________________________________________________________________________________________________\n",
            "batch_normalization_29 (BatchNo (None, 26, 26, 384)  1152        conv2d_29[0][0]                  \n",
            "__________________________________________________________________________________________________\n",
            "activation_27 (Activation)      (None, 26, 26, 256)  0           batch_normalization_27[0][0]     \n",
            "__________________________________________________________________________________________________\n",
            "activation_29 (Activation)      (None, 26, 26, 384)  0           batch_normalization_29[0][0]     \n",
            "__________________________________________________________________________________________________\n",
            "max_pooling2d_3 (MaxPooling2D)  (None, 26, 26, 384)  0           dropout_1[0][0]                  \n",
            "__________________________________________________________________________________________________\n",
            "concatenate_5 (Concatenate)     (None, 26, 26, 1024) 0           activation_27[0][0]              \n",
            "                                                                 activation_29[0][0]              \n",
            "                                                                 max_pooling2d_3[0][0]            \n",
            "__________________________________________________________________________________________________\n",
            "conv2d_30 (Conv2D)              (None, 26, 26, 192)  196608      concatenate_5[0][0]              \n",
            "__________________________________________________________________________________________________\n",
            "batch_normalization_30 (BatchNo (None, 26, 26, 192)  576         conv2d_30[0][0]                  \n",
            "__________________________________________________________________________________________________\n",
            "activation_30 (Activation)      (None, 26, 26, 192)  0           batch_normalization_30[0][0]     \n",
            "__________________________________________________________________________________________________\n",
            "conv2d_31 (Conv2D)              (None, 26, 26, 192)  258048      activation_30[0][0]              \n",
            "__________________________________________________________________________________________________\n",
            "batch_normalization_31 (BatchNo (None, 26, 26, 192)  576         conv2d_31[0][0]                  \n",
            "__________________________________________________________________________________________________\n",
            "activation_31 (Activation)      (None, 26, 26, 192)  0           batch_normalization_31[0][0]     \n",
            "__________________________________________________________________________________________________\n",
            "conv2d_32 (Conv2D)              (None, 26, 26, 224)  301056      activation_31[0][0]              \n",
            "__________________________________________________________________________________________________\n",
            "conv2d_35 (Conv2D)              (None, 26, 26, 192)  196608      concatenate_5[0][0]              \n",
            "__________________________________________________________________________________________________\n",
            "batch_normalization_32 (BatchNo (None, 26, 26, 224)  672         conv2d_32[0][0]                  \n",
            "__________________________________________________________________________________________________\n",
            "batch_normalization_35 (BatchNo (None, 26, 26, 192)  576         conv2d_35[0][0]                  \n",
            "__________________________________________________________________________________________________\n",
            "activation_32 (Activation)      (None, 26, 26, 224)  0           batch_normalization_32[0][0]     \n",
            "__________________________________________________________________________________________________\n",
            "activation_35 (Activation)      (None, 26, 26, 192)  0           batch_normalization_35[0][0]     \n",
            "__________________________________________________________________________________________________\n",
            "conv2d_33 (Conv2D)              (None, 26, 26, 224)  351232      activation_32[0][0]              \n",
            "__________________________________________________________________________________________________\n",
            "conv2d_36 (Conv2D)              (None, 26, 26, 224)  301056      activation_35[0][0]              \n",
            "__________________________________________________________________________________________________\n",
            "batch_normalization_33 (BatchNo (None, 26, 26, 224)  672         conv2d_33[0][0]                  \n",
            "__________________________________________________________________________________________________\n",
            "batch_normalization_36 (BatchNo (None, 26, 26, 224)  672         conv2d_36[0][0]                  \n",
            "__________________________________________________________________________________________________\n",
            "activation_33 (Activation)      (None, 26, 26, 224)  0           batch_normalization_33[0][0]     \n",
            "__________________________________________________________________________________________________\n",
            "activation_36 (Activation)      (None, 26, 26, 224)  0           batch_normalization_36[0][0]     \n",
            "__________________________________________________________________________________________________\n",
            "average_pooling2d_2 (AveragePoo (None, 26, 26, 1024) 0           concatenate_5[0][0]              \n",
            "__________________________________________________________________________________________________\n",
            "conv2d_34 (Conv2D)              (None, 26, 26, 256)  401408      activation_33[0][0]              \n",
            "__________________________________________________________________________________________________\n",
            "conv2d_37 (Conv2D)              (None, 26, 26, 256)  401408      activation_36[0][0]              \n",
            "__________________________________________________________________________________________________\n",
            "conv2d_38 (Conv2D)              (None, 26, 26, 384)  393216      concatenate_5[0][0]              \n",
            "__________________________________________________________________________________________________\n",
            "conv2d_39 (Conv2D)              (None, 26, 26, 128)  131072      average_pooling2d_2[0][0]        \n",
            "__________________________________________________________________________________________________\n",
            "batch_normalization_34 (BatchNo (None, 26, 26, 256)  768         conv2d_34[0][0]                  \n",
            "__________________________________________________________________________________________________\n",
            "batch_normalization_37 (BatchNo (None, 26, 26, 256)  768         conv2d_37[0][0]                  \n",
            "__________________________________________________________________________________________________\n",
            "batch_normalization_38 (BatchNo (None, 26, 26, 384)  1152        conv2d_38[0][0]                  \n",
            "__________________________________________________________________________________________________\n",
            "batch_normalization_39 (BatchNo (None, 26, 26, 128)  384         conv2d_39[0][0]                  \n",
            "__________________________________________________________________________________________________\n",
            "activation_34 (Activation)      (None, 26, 26, 256)  0           batch_normalization_34[0][0]     \n",
            "__________________________________________________________________________________________________\n",
            "activation_37 (Activation)      (None, 26, 26, 256)  0           batch_normalization_37[0][0]     \n",
            "__________________________________________________________________________________________________\n",
            "activation_38 (Activation)      (None, 26, 26, 384)  0           batch_normalization_38[0][0]     \n",
            "__________________________________________________________________________________________________\n",
            "activation_39 (Activation)      (None, 26, 26, 128)  0           batch_normalization_39[0][0]     \n",
            "__________________________________________________________________________________________________\n",
            "concatenate_6 (Concatenate)     (None, 26, 26, 1024) 0           activation_34[0][0]              \n",
            "                                                                 activation_37[0][0]              \n",
            "                                                                 activation_38[0][0]              \n",
            "                                                                 activation_39[0][0]              \n",
            "__________________________________________________________________________________________________\n",
            "dropout_2 (Dropout)             (None, 26, 26, 1024) 0           concatenate_6[0][0]              \n",
            "__________________________________________________________________________________________________\n",
            "conv2d_40 (Conv2D)              (None, 26, 26, 256)  262144      dropout_2[0][0]                  \n",
            "__________________________________________________________________________________________________\n",
            "batch_normalization_40 (BatchNo (None, 26, 26, 256)  768         conv2d_40[0][0]                  \n",
            "__________________________________________________________________________________________________\n",
            "activation_40 (Activation)      (None, 26, 26, 256)  0           batch_normalization_40[0][0]     \n",
            "__________________________________________________________________________________________________\n",
            "conv2d_41 (Conv2D)              (None, 26, 26, 256)  458752      activation_40[0][0]              \n",
            "__________________________________________________________________________________________________\n",
            "batch_normalization_41 (BatchNo (None, 26, 26, 256)  768         conv2d_41[0][0]                  \n",
            "__________________________________________________________________________________________________\n",
            "activation_41 (Activation)      (None, 26, 26, 256)  0           batch_normalization_41[0][0]     \n",
            "__________________________________________________________________________________________________\n",
            "conv2d_42 (Conv2D)              (None, 26, 26, 320)  573440      activation_41[0][0]              \n",
            "__________________________________________________________________________________________________\n",
            "conv2d_44 (Conv2D)              (None, 26, 26, 192)  196608      dropout_2[0][0]                  \n",
            "__________________________________________________________________________________________________\n",
            "batch_normalization_42 (BatchNo (None, 26, 26, 320)  960         conv2d_42[0][0]                  \n",
            "__________________________________________________________________________________________________\n",
            "batch_normalization_44 (BatchNo (None, 26, 26, 192)  576         conv2d_44[0][0]                  \n",
            "__________________________________________________________________________________________________\n",
            "activation_42 (Activation)      (None, 26, 26, 320)  0           batch_normalization_42[0][0]     \n",
            "__________________________________________________________________________________________________\n",
            "activation_44 (Activation)      (None, 26, 26, 192)  0           batch_normalization_44[0][0]     \n",
            "__________________________________________________________________________________________________\n",
            "conv2d_43 (Conv2D)              (None, 13, 13, 320)  921600      activation_42[0][0]              \n",
            "__________________________________________________________________________________________________\n",
            "conv2d_45 (Conv2D)              (None, 13, 13, 192)  36864       activation_44[0][0]              \n",
            "__________________________________________________________________________________________________\n",
            "batch_normalization_43 (BatchNo (None, 13, 13, 320)  960         conv2d_43[0][0]                  \n",
            "__________________________________________________________________________________________________\n",
            "batch_normalization_45 (BatchNo (None, 13, 13, 192)  576         conv2d_45[0][0]                  \n",
            "__________________________________________________________________________________________________\n",
            "activation_43 (Activation)      (None, 13, 13, 320)  0           batch_normalization_43[0][0]     \n",
            "__________________________________________________________________________________________________\n",
            "activation_45 (Activation)      (None, 13, 13, 192)  0           batch_normalization_45[0][0]     \n",
            "__________________________________________________________________________________________________\n",
            "max_pooling2d_4 (MaxPooling2D)  (None, 13, 13, 1024) 0           dropout_2[0][0]                  \n",
            "__________________________________________________________________________________________________\n",
            "concatenate_7 (Concatenate)     (None, 13, 13, 1536) 0           activation_43[0][0]              \n",
            "                                                                 activation_45[0][0]              \n",
            "                                                                 max_pooling2d_4[0][0]            \n",
            "__________________________________________________________________________________________________\n",
            "conv2d_46 (Conv2D)              (None, 13, 13, 384)  589824      concatenate_7[0][0]              \n",
            "__________________________________________________________________________________________________\n",
            "batch_normalization_46 (BatchNo (None, 13, 13, 384)  1152        conv2d_46[0][0]                  \n",
            "__________________________________________________________________________________________________\n",
            "activation_46 (Activation)      (None, 13, 13, 384)  0           batch_normalization_46[0][0]     \n",
            "__________________________________________________________________________________________________\n",
            "conv2d_47 (Conv2D)              (None, 13, 13, 448)  516096      activation_46[0][0]              \n",
            "__________________________________________________________________________________________________\n",
            "batch_normalization_47 (BatchNo (None, 13, 13, 448)  1344        conv2d_47[0][0]                  \n",
            "__________________________________________________________________________________________________\n",
            "activation_47 (Activation)      (None, 13, 13, 448)  0           batch_normalization_47[0][0]     \n",
            "__________________________________________________________________________________________________\n",
            "conv2d_48 (Conv2D)              (None, 13, 13, 512)  688128      activation_47[0][0]              \n",
            "__________________________________________________________________________________________________\n",
            "conv2d_51 (Conv2D)              (None, 13, 13, 384)  589824      concatenate_7[0][0]              \n",
            "__________________________________________________________________________________________________\n",
            "batch_normalization_48 (BatchNo (None, 13, 13, 512)  1536        conv2d_48[0][0]                  \n",
            "__________________________________________________________________________________________________\n",
            "batch_normalization_51 (BatchNo (None, 13, 13, 384)  1152        conv2d_51[0][0]                  \n",
            "__________________________________________________________________________________________________\n",
            "activation_48 (Activation)      (None, 13, 13, 512)  0           batch_normalization_48[0][0]     \n",
            "__________________________________________________________________________________________________\n",
            "activation_51 (Activation)      (None, 13, 13, 384)  0           batch_normalization_51[0][0]     \n",
            "__________________________________________________________________________________________________\n",
            "conv2d_49 (Conv2D)              (None, 13, 13, 256)  393216      activation_48[0][0]              \n",
            "__________________________________________________________________________________________________\n",
            "conv2d_50 (Conv2D)              (None, 13, 13, 256)  393216      activation_48[0][0]              \n",
            "__________________________________________________________________________________________________\n",
            "conv2d_52 (Conv2D)              (None, 13, 13, 256)  294912      activation_51[0][0]              \n",
            "__________________________________________________________________________________________________\n",
            "conv2d_53 (Conv2D)              (None, 13, 13, 256)  294912      activation_51[0][0]              \n",
            "__________________________________________________________________________________________________\n",
            "average_pooling2d_3 (AveragePoo (None, 13, 13, 1536) 0           concatenate_7[0][0]              \n",
            "__________________________________________________________________________________________________\n",
            "batch_normalization_49 (BatchNo (None, 13, 13, 256)  768         conv2d_49[0][0]                  \n",
            "__________________________________________________________________________________________________\n",
            "batch_normalization_50 (BatchNo (None, 13, 13, 256)  768         conv2d_50[0][0]                  \n",
            "__________________________________________________________________________________________________\n",
            "batch_normalization_52 (BatchNo (None, 13, 13, 256)  768         conv2d_52[0][0]                  \n",
            "__________________________________________________________________________________________________\n",
            "batch_normalization_53 (BatchNo (None, 13, 13, 256)  768         conv2d_53[0][0]                  \n",
            "__________________________________________________________________________________________________\n",
            "conv2d_54 (Conv2D)              (None, 13, 13, 256)  393216      concatenate_7[0][0]              \n",
            "__________________________________________________________________________________________________\n",
            "conv2d_55 (Conv2D)              (None, 13, 13, 128)  196608      average_pooling2d_3[0][0]        \n",
            "__________________________________________________________________________________________________\n",
            "activation_49 (Activation)      (None, 13, 13, 256)  0           batch_normalization_49[0][0]     \n",
            "__________________________________________________________________________________________________\n",
            "activation_50 (Activation)      (None, 13, 13, 256)  0           batch_normalization_50[0][0]     \n",
            "__________________________________________________________________________________________________\n",
            "activation_52 (Activation)      (None, 13, 13, 256)  0           batch_normalization_52[0][0]     \n",
            "__________________________________________________________________________________________________\n",
            "activation_53 (Activation)      (None, 13, 13, 256)  0           batch_normalization_53[0][0]     \n",
            "__________________________________________________________________________________________________\n",
            "batch_normalization_54 (BatchNo (None, 13, 13, 256)  768         conv2d_54[0][0]                  \n",
            "__________________________________________________________________________________________________\n",
            "batch_normalization_55 (BatchNo (None, 13, 13, 128)  384         conv2d_55[0][0]                  \n",
            "__________________________________________________________________________________________________\n",
            "concatenate_8 (Concatenate)     (None, 13, 13, 512)  0           activation_49[0][0]              \n",
            "                                                                 activation_50[0][0]              \n",
            "__________________________________________________________________________________________________\n",
            "concatenate_9 (Concatenate)     (None, 13, 13, 512)  0           activation_52[0][0]              \n",
            "                                                                 activation_53[0][0]              \n",
            "__________________________________________________________________________________________________\n",
            "activation_54 (Activation)      (None, 13, 13, 256)  0           batch_normalization_54[0][0]     \n",
            "__________________________________________________________________________________________________\n",
            "activation_55 (Activation)      (None, 13, 13, 128)  0           batch_normalization_55[0][0]     \n",
            "__________________________________________________________________________________________________\n",
            "concatenate_10 (Concatenate)    (None, 13, 13, 1408) 0           concatenate_8[0][0]              \n",
            "                                                                 concatenate_9[0][0]              \n",
            "                                                                 activation_54[0][0]              \n",
            "                                                                 activation_55[0][0]              \n",
            "__________________________________________________________________________________________________\n",
            "average_pooling2d_4 (AveragePoo (None, 4, 4, 1408)   0           concatenate_10[0][0]             \n",
            "__________________________________________________________________________________________________\n",
            "dropout_3 (Dropout)             (None, 4, 4, 1408)   0           average_pooling2d_4[0][0]        \n",
            "__________________________________________________________________________________________________\n",
            "flatten_1 (Flatten)             (None, 22528)        0           dropout_3[0][0]                  \n",
            "__________________________________________________________________________________________________\n",
            "dense_1 (Dense)                 (None, 6)            135174      flatten_1[0][0]                  \n",
            "==================================================================================================\n",
            "Total params: 12,042,630\n",
            "Trainable params: 12,022,470\n",
            "Non-trainable params: 20,160\n",
            "__________________________________________________________________________________________________\n",
            "None\n"
          ],
          "name": "stdout"
        }
      ]
    },
    {
      "cell_type": "code",
      "metadata": {
        "id": "FxBEkRkmoU4_",
        "colab_type": "code",
        "colab": {}
      },
      "source": [
        "aug = ImageDataGenerator(\n",
        "    rotation_range=25, width_shift_range=0.1,\n",
        "    height_shift_range=0.1, shear_range=0.2, \n",
        "    zoom_range=0.2,horizontal_flip=True, \n",
        "    fill_mode=\"nearest\")"
      ],
      "execution_count": 0,
      "outputs": []
    },
    {
      "cell_type": "code",
      "metadata": {
        "id": "2JID7NdgoXY7",
        "colab_type": "code",
        "colab": {}
      },
      "source": [
        "Model.compile(loss=\"binary_crossentropy\", optimizer='Adam',metrics=[\"accuracy\"])"
      ],
      "execution_count": 0,
      "outputs": []
    },
    {
      "cell_type": "code",
      "metadata": {
        "id": "j8qWcqbSoZfk",
        "colab_type": "code",
        "outputId": "0f4cfa62-a22a-4370-c0be-74036a369ec9",
        "colab": {
          "base_uri": "https://localhost:8080/",
          "height": 1000
        }
      },
      "source": [
        "history = Model.fit_generator(\n",
        "    aug.flow(x_train, y_train, batch_size=4),\n",
        "    steps_per_epoch=len(x_train)//4,\n",
        "    epochs=50,\n",
        "    validation_data=(x_test, y_test),\n",
        "    max_queue_size=4*2,\n",
        "    verbose=1\n",
        "    )"
      ],
      "execution_count": 0,
      "outputs": [
        {
          "output_type": "stream",
          "text": [
            "WARNING:tensorflow:From /tensorflow-1.15.2/python3.6/tensorflow_core/python/ops/math_grad.py:1424: where (from tensorflow.python.ops.array_ops) is deprecated and will be removed in a future version.\n",
            "Instructions for updating:\n",
            "Use tf.where in 2.0, which has the same broadcast rule as np.where\n",
            "WARNING:tensorflow:From /usr/local/lib/python3.6/dist-packages/keras/backend/tensorflow_backend.py:422: The name tf.global_variables is deprecated. Please use tf.compat.v1.global_variables instead.\n",
            "\n",
            "Epoch 1/50\n",
            "240/240 [==============================] - 83s 344ms/step - loss: 1.8568 - accuracy: 0.7606 - val_loss: 4.4642 - val_accuracy: 0.7097\n",
            "Epoch 2/50\n",
            "240/240 [==============================] - 66s 274ms/step - loss: 1.5392 - accuracy: 0.7861 - val_loss: 4.3788 - val_accuracy: 0.7153\n",
            "Epoch 3/50\n",
            "240/240 [==============================] - 66s 275ms/step - loss: 1.6679 - accuracy: 0.7785 - val_loss: 4.3360 - val_accuracy: 0.7181\n",
            "Epoch 4/50\n",
            "240/240 [==============================] - 66s 275ms/step - loss: 1.4050 - accuracy: 0.7906 - val_loss: 4.3360 - val_accuracy: 0.7181\n",
            "Epoch 5/50\n",
            "240/240 [==============================] - 66s 275ms/step - loss: 1.0330 - accuracy: 0.7962 - val_loss: 4.1438 - val_accuracy: 0.7306\n",
            "Epoch 6/50\n",
            "240/240 [==============================] - 66s 274ms/step - loss: 0.5015 - accuracy: 0.8108 - val_loss: 4.1225 - val_accuracy: 0.7319\n",
            "Epoch 7/50\n",
            "240/240 [==============================] - 66s 275ms/step - loss: 0.4099 - accuracy: 0.8389 - val_loss: 4.0954 - val_accuracy: 0.7333\n",
            "Epoch 8/50\n",
            "240/240 [==============================] - 66s 274ms/step - loss: 0.3856 - accuracy: 0.8458 - val_loss: 3.0123 - val_accuracy: 0.7340\n",
            "Epoch 9/50\n",
            "240/240 [==============================] - 66s 274ms/step - loss: 0.3749 - accuracy: 0.8441 - val_loss: 2.8066 - val_accuracy: 0.7493\n",
            "Epoch 10/50\n",
            "240/240 [==============================] - 66s 274ms/step - loss: 0.3885 - accuracy: 0.8457 - val_loss: 1.7881 - val_accuracy: 0.7194\n",
            "Epoch 11/50\n",
            "240/240 [==============================] - 66s 275ms/step - loss: 0.3636 - accuracy: 0.8491 - val_loss: 1.7624 - val_accuracy: 0.7431\n",
            "Epoch 12/50\n",
            "240/240 [==============================] - 66s 274ms/step - loss: 0.3496 - accuracy: 0.8547 - val_loss: 1.5200 - val_accuracy: 0.7486\n",
            "Epoch 13/50\n",
            "240/240 [==============================] - 66s 274ms/step - loss: 0.3445 - accuracy: 0.8595 - val_loss: 1.5637 - val_accuracy: 0.7535\n",
            "Epoch 14/50\n",
            "240/240 [==============================] - 66s 275ms/step - loss: 0.3383 - accuracy: 0.8611 - val_loss: 1.5443 - val_accuracy: 0.7174\n",
            "Epoch 15/50\n",
            "240/240 [==============================] - 66s 274ms/step - loss: 0.3316 - accuracy: 0.8630 - val_loss: 1.2022 - val_accuracy: 0.7569\n",
            "Epoch 16/50\n",
            "240/240 [==============================] - 66s 275ms/step - loss: 0.3480 - accuracy: 0.8576 - val_loss: 2.0874 - val_accuracy: 0.7417\n",
            "Epoch 17/50\n",
            "240/240 [==============================] - 66s 275ms/step - loss: 0.3285 - accuracy: 0.8635 - val_loss: 1.8013 - val_accuracy: 0.7500\n",
            "Epoch 18/50\n",
            "240/240 [==============================] - 66s 274ms/step - loss: 0.3091 - accuracy: 0.8734 - val_loss: 2.2096 - val_accuracy: 0.7528\n",
            "Epoch 19/50\n",
            "240/240 [==============================] - 66s 274ms/step - loss: 0.3218 - accuracy: 0.8670 - val_loss: 1.7501 - val_accuracy: 0.7549\n",
            "Epoch 20/50\n",
            "240/240 [==============================] - 66s 275ms/step - loss: 0.3120 - accuracy: 0.8748 - val_loss: 1.4779 - val_accuracy: 0.7514\n",
            "Epoch 21/50\n",
            "240/240 [==============================] - 66s 275ms/step - loss: 0.2977 - accuracy: 0.8766 - val_loss: 1.5745 - val_accuracy: 0.7354\n",
            "Epoch 22/50\n",
            "240/240 [==============================] - 66s 274ms/step - loss: 0.3007 - accuracy: 0.8811 - val_loss: 1.3421 - val_accuracy: 0.7181\n",
            "Epoch 23/50\n",
            "240/240 [==============================] - 66s 274ms/step - loss: 0.2784 - accuracy: 0.8823 - val_loss: 1.8586 - val_accuracy: 0.7403\n",
            "Epoch 24/50\n",
            "240/240 [==============================] - 66s 275ms/step - loss: 0.2788 - accuracy: 0.8868 - val_loss: 2.2294 - val_accuracy: 0.7278\n",
            "Epoch 25/50\n",
            "240/240 [==============================] - 66s 275ms/step - loss: 0.2801 - accuracy: 0.8819 - val_loss: 1.8705 - val_accuracy: 0.7375\n",
            "Epoch 26/50\n",
            "240/240 [==============================] - 66s 274ms/step - loss: 0.2664 - accuracy: 0.8894 - val_loss: 1.9587 - val_accuracy: 0.7319\n",
            "Epoch 27/50\n",
            "240/240 [==============================] - 66s 273ms/step - loss: 0.2608 - accuracy: 0.8950 - val_loss: 1.4809 - val_accuracy: 0.7444\n",
            "Epoch 28/50\n",
            "240/240 [==============================] - 66s 275ms/step - loss: 0.2627 - accuracy: 0.8957 - val_loss: 1.8464 - val_accuracy: 0.7347\n",
            "Epoch 29/50\n",
            "240/240 [==============================] - 66s 275ms/step - loss: 0.2544 - accuracy: 0.8946 - val_loss: 1.7131 - val_accuracy: 0.7257\n",
            "Epoch 30/50\n",
            "240/240 [==============================] - 66s 275ms/step - loss: 0.2550 - accuracy: 0.8917 - val_loss: 2.2286 - val_accuracy: 0.7465\n",
            "Epoch 31/50\n",
            "240/240 [==============================] - 66s 274ms/step - loss: 0.2491 - accuracy: 0.8988 - val_loss: 1.8459 - val_accuracy: 0.7313\n",
            "Epoch 32/50\n",
            "240/240 [==============================] - 66s 275ms/step - loss: 0.2404 - accuracy: 0.8997 - val_loss: 2.4229 - val_accuracy: 0.7333\n",
            "Epoch 33/50\n",
            "240/240 [==============================] - 66s 274ms/step - loss: 0.2438 - accuracy: 0.8972 - val_loss: 1.5578 - val_accuracy: 0.7687\n",
            "Epoch 34/50\n",
            "240/240 [==============================] - 66s 274ms/step - loss: 0.2219 - accuracy: 0.9095 - val_loss: 1.7649 - val_accuracy: 0.7583\n",
            "Epoch 35/50\n",
            "240/240 [==============================] - 67s 278ms/step - loss: 0.2237 - accuracy: 0.9134 - val_loss: 1.4136 - val_accuracy: 0.7771\n",
            "Epoch 36/50\n",
            "240/240 [==============================] - 66s 276ms/step - loss: 0.2278 - accuracy: 0.9137 - val_loss: 2.1014 - val_accuracy: 0.7542\n",
            "Epoch 37/50\n",
            "240/240 [==============================] - 66s 276ms/step - loss: 0.2260 - accuracy: 0.9066 - val_loss: 2.5991 - val_accuracy: 0.7479\n",
            "Epoch 38/50\n",
            "240/240 [==============================] - 66s 276ms/step - loss: 0.2212 - accuracy: 0.9118 - val_loss: 1.4567 - val_accuracy: 0.7910\n",
            "Epoch 39/50\n",
            "240/240 [==============================] - 66s 277ms/step - loss: 0.2100 - accuracy: 0.9160 - val_loss: 2.9079 - val_accuracy: 0.7229\n",
            "Epoch 40/50\n",
            "240/240 [==============================] - 66s 277ms/step - loss: 0.2124 - accuracy: 0.9160 - val_loss: 2.2955 - val_accuracy: 0.7549\n",
            "Epoch 41/50\n",
            "240/240 [==============================] - 66s 276ms/step - loss: 0.2018 - accuracy: 0.9220 - val_loss: 2.6793 - val_accuracy: 0.7396\n",
            "Epoch 42/50\n",
            "240/240 [==============================] - 66s 276ms/step - loss: 0.2065 - accuracy: 0.9172 - val_loss: 4.1645 - val_accuracy: 0.7264\n",
            "Epoch 43/50\n",
            "240/240 [==============================] - 66s 276ms/step - loss: 0.2113 - accuracy: 0.9132 - val_loss: 3.1741 - val_accuracy: 0.7507\n",
            "Epoch 44/50\n",
            "240/240 [==============================] - 66s 276ms/step - loss: 0.2104 - accuracy: 0.9153 - val_loss: 2.1143 - val_accuracy: 0.7653\n",
            "Epoch 45/50\n",
            "240/240 [==============================] - 66s 276ms/step - loss: 0.1935 - accuracy: 0.9269 - val_loss: 4.0221 - val_accuracy: 0.7319\n",
            "Epoch 46/50\n",
            "240/240 [==============================] - 66s 276ms/step - loss: 0.1835 - accuracy: 0.9247 - val_loss: 2.3655 - val_accuracy: 0.7882\n",
            "Epoch 47/50\n",
            "240/240 [==============================] - 66s 276ms/step - loss: 0.1966 - accuracy: 0.9205 - val_loss: 2.8970 - val_accuracy: 0.7736\n",
            "Epoch 48/50\n",
            "240/240 [==============================] - 66s 276ms/step - loss: 0.2035 - accuracy: 0.9236 - val_loss: 2.2995 - val_accuracy: 0.7438\n",
            "Epoch 49/50\n",
            "240/240 [==============================] - 66s 276ms/step - loss: 0.1896 - accuracy: 0.9238 - val_loss: 4.2717 - val_accuracy: 0.7181\n",
            "Epoch 50/50\n",
            "240/240 [==============================] - 66s 277ms/step - loss: 0.1906 - accuracy: 0.9285 - val_loss: 2.7774 - val_accuracy: 0.7486\n"
          ],
          "name": "stdout"
        }
      ]
    },
    {
      "cell_type": "code",
      "metadata": {
        "id": "_AxTr7tU1NfS",
        "colab_type": "code",
        "outputId": "45efbc8e-c0a1-4fe9-8481-c08c75030bef",
        "colab": {
          "base_uri": "https://localhost:8080/",
          "height": 67
        }
      },
      "source": [
        "print(\"[INFO] Calculating model accuracy\")\n",
        "scores = Model.evaluate(x_test, y_test)\n",
        "print(f\"Test Accuracy: {scores[1]*100}\")"
      ],
      "execution_count": 0,
      "outputs": [
        {
          "output_type": "stream",
          "text": [
            "[INFO] Calculating model accuracy\n",
            "240/240 [==============================] - 7s 28ms/step\n",
            "Test Accuracy: 74.86111521720886\n"
          ],
          "name": "stdout"
        }
      ]
    },
    {
      "cell_type": "code",
      "metadata": {
        "id": "VeuxyPp41Zhw",
        "colab_type": "code",
        "colab": {}
      },
      "source": [
        ""
      ],
      "execution_count": 0,
      "outputs": []
    },
    {
      "cell_type": "code",
      "metadata": {
        "id": "E852QJRZ1bul",
        "colab_type": "code",
        "outputId": "a0deb2f7-a2a8-4b53-ef9a-e487994bb359",
        "colab": {
          "base_uri": "https://localhost:8080/",
          "height": 545
        }
      },
      "source": [
        "acc = history.history['accuracy']\n",
        "val_acc = history.history['val_accuracy']\n",
        "loss = history.history['loss']\n",
        "val_loss = history.history['val_loss']\n",
        "epochs = range(1, len(acc) + 1)\n",
        "#Train and validation accuracy\n",
        "plt.plot(epochs, acc, 'b', label='Training accurarcy')\n",
        "plt.plot(epochs, val_acc, 'r', label='Validation accurarcy')\n",
        "plt.title('Training and Validation accurarcy')\n",
        "plt.legend()\n",
        "\n",
        "plt.figure()\n",
        "#Train and validation loss\n",
        "plt.plot(epochs, loss, 'b', label='Training loss')\n",
        "plt.plot(epochs, val_loss, 'r', label='Validation loss')\n",
        "plt.title('Training and Validation loss')\n",
        "plt.legend()\n",
        "plt.show()"
      ],
      "execution_count": 0,
      "outputs": [
        {
          "output_type": "display_data",
          "data": {
            "image/png": "[encoded data removed]",
            "text/plain": [
              "<Figure size 432x288 with 1 Axes>"
            ]
          },
          "metadata": {
            "tags": [],
            "needs_background": "light"
          }
        },
        {
          "output_type": "display_data",
          "data": {
            "image/png": "[encoded data removed]",
            "text/plain": [
              "<Figure size 432x288 with 1 Axes>"
            ]
          },
          "metadata": {
            "tags": [],
            "needs_background": "light"
          }
        }
      ]
    }
  ]
}