{
  "nbformat": 4,
  "nbformat_minor": 0,
  "metadata": {
    "colab": {
      "name": "TugasLeNet.ipynb",
      "provenance": [],
      "collapsed_sections": []
    },
    "kernelspec": {
      "name": "python3",
      "display_name": "Python 3"
    }
  },
  "cells": [
    {
      "cell_type": "code",
      "metadata": {
        "id": "rRkF7mTIcENU",
        "colab_type": "code",
        "outputId": "8236fb62-a4cb-4fce-9bb0-e0c84eee7ac4",
        "colab": {
          "base_uri": "https://localhost:8080/",
          "height": 83
        }
      },
      "source": [
        "from keras.models import Sequential\n",
        "from keras.layers import Conv2D, MaxPooling2D, Flatten, Dropout, Dense, Activation\n",
        "from keras.datasets import mnist\n",
        "from keras import backend as k\n",
        "from keras.utils import np_utils\n",
        "import numpy as np\n",
        "import matplotlib.pyplot as plt"
      ],
      "execution_count": 0,
      "outputs": [
        {
          "output_type": "stream",
          "text": [
            "Using TensorFlow backend.\n"
          ],
          "name": "stderr"
        },
        {
          "output_type": "display_data",
          "data": {
            "text/html": [
              "<p style=\"color: red;\">\n",
              "The default version of TensorFlow in Colab will soon switch to TensorFlow 2.x.<br>\n",
              "We recommend you <a href=\"https://www.tensorflow.org/guide/migrate\" target=\"_blank\">upgrade</a> now \n",
              "or ensure your notebook will continue to use TensorFlow 1.x via the <code>%tensorflow_version 1.x</code> magic:\n",
              "<a href=\"https://colab.research.google.com/notebooks/tensorflow_version.ipynb\" target=\"_blank\">more info</a>.</p>\n"
            ],
            "text/plain": [
              "<IPython.core.display.HTML object>"
            ]
          },
          "metadata": {
            "tags": []
          }
        }
      ]
    },
    {
      "cell_type": "code",
      "metadata": {
        "id": "KXIlo00FcV4m",
        "colab_type": "code",
        "colab": {}
      },
      "source": [
        "#Mendefinisikan LeNet Model\n",
        "class LeNet:\n",
        "    @staticmethod\n",
        "    def build(input_shape, classes):\n",
        "        # Menentukan model yang akan digunakan\n",
        "        model = Sequential()\n",
        "        # Menambahkan Layers\n",
        "        model.add(Conv2D(20, kernel_size=5, activation='relu', padding='same', input_shape=input_shape))\n",
        "        model.add(MaxPooling2D(pool_size=(2,2), strides=(2,2)))\n",
        "        model.add(Conv2D(50, kernel_size=5, border_mode='same', activation='relu'))\n",
        "        model.add(MaxPooling2D(pool_size=(2,2), strides=(2,2)))\n",
        "        model.add(Flatten())\n",
        "        model.add(Dense(500, activation='relu'))\n",
        "        model.add(Dense(classes, activation='softmax'))\n",
        "        return model"
      ],
      "execution_count": 0,
      "outputs": []
    },
    {
      "cell_type": "code",
      "metadata": {
        "id": "KqHGZY_9caUr",
        "colab_type": "code",
        "colab": {}
      },
      "source": [
        "# Hyperparameter\n",
        "BATCH_SIZE=128\n",
        "EPOCHS = 50\n",
        "IP_SHAPE = (1, 28, 28)\n",
        "k.common.image_dim_ordering()\n",
        "k.common.set_image_dim_ordering('th')"
      ],
      "execution_count": 0,
      "outputs": []
    },
    {
      "cell_type": "code",
      "metadata": {
        "id": "wSFFNonPcfWE",
        "colab_type": "code",
        "outputId": "c8d86415-c459-48d6-d824-7a3387c4d110",
        "colab": {
          "base_uri": "https://localhost:8080/",
          "height": 127
        }
      },
      "source": [
        "# Loading dan preprocessing dataset\n",
        "(X_train, y_train), (X_test, y_test) = mnist.load_data()\n",
        "print(\"X_train original shape\", X_train.shape)\n",
        "print(\"y_train original shape\", y_train.shape)\n",
        "print(\"X_test original shape\", X_test.shape)\n",
        "print(\"y_test original shape\", y_test.shape)\n"
      ],
      "execution_count": 0,
      "outputs": [
        {
          "output_type": "stream",
          "text": [
            "Downloading data from https://s3.amazonaws.com/img-datasets/mnist.npz\n",
            "11493376/11490434 [==============================] - 0s 0us/step\n",
            "X_train original shape (60000, 28, 28)\n",
            "y_train original shape (60000,)\n",
            "X_test original shape (10000, 28, 28)\n",
            "y_test original shape (10000,)\n"
          ],
          "name": "stdout"
        }
      ]
    },
    {
      "cell_type": "code",
      "metadata": {
        "id": "pgIDOityK05h",
        "colab_type": "code",
        "outputId": "7f2400f9-db85-4896-b927-9fa97fc30f26",
        "colab": {
          "base_uri": "https://localhost:8080/",
          "height": 299
        }
      },
      "source": [
        "plt.imshow(X_train[12], cmap='gray')\n",
        "plt.title('Class '+ str(y_train[12]))"
      ],
      "execution_count": 0,
      "outputs": [
        {
          "output_type": "execute_result",
          "data": {
            "text/plain": [
              "Text(0.5, 1.0, 'Class 3')"
            ]
          },
          "metadata": {
            "tags": []
          },
          "execution_count": 5
        },
        {
          "output_type": "display_data",
          "data": {
            "image/png": "[encoded data removed]",
            "text/plain": [
              "<Figure size 432x288 with 1 Axes>"
            ]
          },
          "metadata": {
            "tags": []
          }
        }
      ]
    },
    {
      "cell_type": "code",
      "metadata": {
        "id": "Gyc3pCXYK6v-",
        "colab_type": "code",
        "colab": {}
      },
      "source": [
        "X_train = X_train.astype('float32')\n",
        "X_test = X_test.astype('float32')\n",
        "X_train /= 255\n",
        "X_test /= 255\n",
        "X_train = X_train[:, np.newaxis, :, :]\n",
        "X_test = X_test[:, np.newaxis, :, :]\n",
        "y_train = np_utils.to_categorical(y_train, 10)\n",
        "y_test = np_utils.to_categorical(y_test, 10)"
      ],
      "execution_count": 0,
      "outputs": []
    },
    {
      "cell_type": "code",
      "metadata": {
        "id": "_fJ9I_EridOv",
        "colab_type": "code",
        "outputId": "38a453b9-8ee5-434d-83ec-0e60b55b82f2",
        "colab": {
          "base_uri": "https://localhost:8080/",
          "height": 1000
        }
      },
      "source": [
        "# Membuat Model\n",
        "model = LeNet.build(input_shape=IP_SHAPE, classes=10)\n",
        "model.compile(loss='categorical_crossentropy', optimizer='adam', metrics=['accuracy'])\n",
        "history=model.fit(X_train, y_train, batch_size=BATCH_SIZE, epochs=EPOCHS, verbose=True, validation_split=0.25)\n",
        "score=model.evaluate(X_test, y_test, verbose=True)\n",
        "print(\"Test Score : \", score[0])\n",
        "print(\"Test Accuracy : \", score[1])\n",
        "print(history.history.keys())"
      ],
      "execution_count": 0,
      "outputs": [
        {
          "output_type": "stream",
          "text": [
            "WARNING:tensorflow:From /usr/local/lib/python3.6/dist-packages/keras/backend/tensorflow_backend.py:66: The name tf.get_default_graph is deprecated. Please use tf.compat.v1.get_default_graph instead.\n",
            "\n",
            "WARNING:tensorflow:From /usr/local/lib/python3.6/dist-packages/keras/backend/tensorflow_backend.py:541: The name tf.placeholder is deprecated. Please use tf.compat.v1.placeholder instead.\n",
            "\n",
            "WARNING:tensorflow:From /usr/local/lib/python3.6/dist-packages/keras/backend/tensorflow_backend.py:4432: The name tf.random_uniform is deprecated. Please use tf.random.uniform instead.\n",
            "\n",
            "WARNING:tensorflow:From /usr/local/lib/python3.6/dist-packages/keras/backend/tensorflow_backend.py:190: The name tf.get_default_session is deprecated. Please use tf.compat.v1.get_default_session instead.\n",
            "\n",
            "WARNING:tensorflow:From /usr/local/lib/python3.6/dist-packages/keras/backend/tensorflow_backend.py:197: The name tf.ConfigProto is deprecated. Please use tf.compat.v1.ConfigProto instead.\n",
            "\n",
            "WARNING:tensorflow:From /usr/local/lib/python3.6/dist-packages/keras/backend/tensorflow_backend.py:203: The name tf.Session is deprecated. Please use tf.compat.v1.Session instead.\n",
            "\n",
            "WARNING:tensorflow:From /usr/local/lib/python3.6/dist-packages/keras/backend/tensorflow_backend.py:207: The name tf.global_variables is deprecated. Please use tf.compat.v1.global_variables instead.\n",
            "\n",
            "WARNING:tensorflow:From /usr/local/lib/python3.6/dist-packages/keras/backend/tensorflow_backend.py:216: The name tf.is_variable_initialized is deprecated. Please use tf.compat.v1.is_variable_initialized instead.\n",
            "\n",
            "WARNING:tensorflow:From /usr/local/lib/python3.6/dist-packages/keras/backend/tensorflow_backend.py:223: The name tf.variables_initializer is deprecated. Please use tf.compat.v1.variables_initializer instead.\n",
            "\n",
            "WARNING:tensorflow:From /usr/local/lib/python3.6/dist-packages/keras/backend/tensorflow_backend.py:4267: The name tf.nn.max_pool is deprecated. Please use tf.nn.max_pool2d instead.\n",
            "\n",
            "WARNING:tensorflow:From /usr/local/lib/python3.6/dist-packages/keras/optimizers.py:793: The name tf.train.Optimizer is deprecated. Please use tf.compat.v1.train.Optimizer instead.\n",
            "\n",
            "WARNING:tensorflow:From /usr/local/lib/python3.6/dist-packages/keras/backend/tensorflow_backend.py:3576: The name tf.log is deprecated. Please use tf.math.log instead.\n",
            "\n",
            "WARNING:tensorflow:From /usr/local/lib/python3.6/dist-packages/tensorflow_core/python/ops/math_grad.py:1424: where (from tensorflow.python.ops.array_ops) is deprecated and will be removed in a future version.\n",
            "Instructions for updating:\n",
            "Use tf.where in 2.0, which has the same broadcast rule as np.where\n"
          ],
          "name": "stdout"
        },
        {
          "output_type": "stream",
          "text": [
            "/usr/local/lib/python3.6/dist-packages/ipykernel_launcher.py:9: UserWarning: Update your `Conv2D` call to the Keras 2 API: `Conv2D(50, kernel_size=5, activation=\"relu\", padding=\"same\")`\n",
            "  if __name__ == '__main__':\n"
          ],
          "name": "stderr"
        },
        {
          "output_type": "stream",
          "text": [
            "WARNING:tensorflow:From /usr/local/lib/python3.6/dist-packages/keras/backend/tensorflow_backend.py:1033: The name tf.assign_add is deprecated. Please use tf.compat.v1.assign_add instead.\n",
            "\n",
            "WARNING:tensorflow:From /usr/local/lib/python3.6/dist-packages/keras/backend/tensorflow_backend.py:1020: The name tf.assign is deprecated. Please use tf.compat.v1.assign instead.\n",
            "\n",
            "Train on 45000 samples, validate on 15000 samples\n",
            "Epoch 1/50\n",
            "45000/45000 [==============================] - 100s 2ms/step - loss: 0.1823 - acc: 0.9448 - val_loss: 0.0866 - val_acc: 0.9719\n",
            "Epoch 2/50\n",
            "45000/45000 [==============================] - 100s 2ms/step - loss: 0.0487 - acc: 0.9847 - val_loss: 0.0421 - val_acc: 0.9867\n",
            "Epoch 3/50\n",
            "45000/45000 [==============================] - 100s 2ms/step - loss: 0.0306 - acc: 0.9907 - val_loss: 0.0501 - val_acc: 0.9857\n",
            "Epoch 4/50\n",
            "45000/45000 [==============================] - 99s 2ms/step - loss: 0.0232 - acc: 0.9921 - val_loss: 0.0401 - val_acc: 0.9887\n",
            "Epoch 5/50\n",
            "45000/45000 [==============================] - 99s 2ms/step - loss: 0.0178 - acc: 0.9939 - val_loss: 0.0384 - val_acc: 0.9888\n",
            "Epoch 6/50\n",
            "45000/45000 [==============================] - 99s 2ms/step - loss: 0.0131 - acc: 0.9956 - val_loss: 0.0458 - val_acc: 0.9872\n",
            "Epoch 7/50\n",
            "45000/45000 [==============================] - 99s 2ms/step - loss: 0.0102 - acc: 0.9964 - val_loss: 0.0459 - val_acc: 0.9884\n",
            "Epoch 8/50\n",
            "45000/45000 [==============================] - 99s 2ms/step - loss: 0.0090 - acc: 0.9972 - val_loss: 0.0358 - val_acc: 0.9899\n",
            "Epoch 9/50\n",
            "45000/45000 [==============================] - 99s 2ms/step - loss: 0.0071 - acc: 0.9975 - val_loss: 0.0397 - val_acc: 0.9899\n",
            "Epoch 10/50\n",
            "45000/45000 [==============================] - 99s 2ms/step - loss: 0.0059 - acc: 0.9982 - val_loss: 0.0432 - val_acc: 0.9887\n",
            "Epoch 11/50\n",
            "45000/45000 [==============================] - 99s 2ms/step - loss: 0.0058 - acc: 0.9982 - val_loss: 0.0572 - val_acc: 0.9862\n",
            "Epoch 12/50\n",
            "45000/45000 [==============================] - 99s 2ms/step - loss: 0.0071 - acc: 0.9978 - val_loss: 0.0504 - val_acc: 0.9882\n",
            "Epoch 13/50\n",
            "45000/45000 [==============================] - 100s 2ms/step - loss: 0.0064 - acc: 0.9978 - val_loss: 0.0513 - val_acc: 0.9871\n",
            "Epoch 14/50\n",
            "45000/45000 [==============================] - 99s 2ms/step - loss: 0.0048 - acc: 0.9984 - val_loss: 0.0476 - val_acc: 0.9893\n",
            "Epoch 15/50\n",
            "45000/45000 [==============================] - 99s 2ms/step - loss: 0.0034 - acc: 0.9990 - val_loss: 0.0540 - val_acc: 0.9896\n",
            "Epoch 16/50\n",
            "45000/45000 [==============================] - 99s 2ms/step - loss: 0.0040 - acc: 0.9988 - val_loss: 0.0478 - val_acc: 0.9893\n",
            "Epoch 17/50\n",
            "45000/45000 [==============================] - 99s 2ms/step - loss: 0.0045 - acc: 0.9987 - val_loss: 0.0606 - val_acc: 0.9867\n",
            "Epoch 18/50\n",
            "45000/45000 [==============================] - 100s 2ms/step - loss: 0.0040 - acc: 0.9988 - val_loss: 0.0484 - val_acc: 0.9905\n",
            "Epoch 19/50\n",
            "45000/45000 [==============================] - 101s 2ms/step - loss: 0.0018 - acc: 0.9994 - val_loss: 0.0512 - val_acc: 0.9904\n",
            "Epoch 20/50\n",
            "45000/45000 [==============================] - 99s 2ms/step - loss: 0.0071 - acc: 0.9982 - val_loss: 0.0487 - val_acc: 0.9892\n",
            "Epoch 21/50\n",
            "45000/45000 [==============================] - 99s 2ms/step - loss: 0.0029 - acc: 0.9991 - val_loss: 0.0570 - val_acc: 0.9892\n",
            "Epoch 22/50\n",
            "45000/45000 [==============================] - 100s 2ms/step - loss: 0.0022 - acc: 0.9994 - val_loss: 0.0555 - val_acc: 0.9886\n",
            "Epoch 23/50\n",
            "45000/45000 [==============================] - 100s 2ms/step - loss: 0.0052 - acc: 0.9984 - val_loss: 0.0487 - val_acc: 0.9894\n",
            "Epoch 24/50\n",
            "45000/45000 [==============================] - 100s 2ms/step - loss: 0.0016 - acc: 0.9995 - val_loss: 0.0535 - val_acc: 0.9896\n",
            "Epoch 25/50\n",
            "45000/45000 [==============================] - 101s 2ms/step - loss: 1.6927e-04 - acc: 1.0000 - val_loss: 0.0499 - val_acc: 0.9911\n",
            "Epoch 26/50\n",
            "45000/45000 [==============================] - 99s 2ms/step - loss: 2.2383e-05 - acc: 1.0000 - val_loss: 0.0493 - val_acc: 0.9909\n",
            "Epoch 27/50\n",
            "45000/45000 [==============================] - 100s 2ms/step - loss: 1.0343e-05 - acc: 1.0000 - val_loss: 0.0500 - val_acc: 0.9909\n",
            "Epoch 28/50\n",
            "45000/45000 [==============================] - 100s 2ms/step - loss: 7.5460e-06 - acc: 1.0000 - val_loss: 0.0506 - val_acc: 0.9911\n",
            "Epoch 29/50\n",
            "45000/45000 [==============================] - 100s 2ms/step - loss: 5.9289e-06 - acc: 1.0000 - val_loss: 0.0513 - val_acc: 0.9912\n",
            "Epoch 30/50\n",
            "45000/45000 [==============================] - 99s 2ms/step - loss: 4.7228e-06 - acc: 1.0000 - val_loss: 0.0519 - val_acc: 0.9912\n",
            "Epoch 31/50\n",
            "45000/45000 [==============================] - 99s 2ms/step - loss: 3.8831e-06 - acc: 1.0000 - val_loss: 0.0525 - val_acc: 0.9912\n",
            "Epoch 32/50\n",
            "45000/45000 [==============================] - 100s 2ms/step - loss: 3.1657e-06 - acc: 1.0000 - val_loss: 0.0530 - val_acc: 0.9912\n",
            "Epoch 33/50\n",
            "45000/45000 [==============================] - 99s 2ms/step - loss: 2.6144e-06 - acc: 1.0000 - val_loss: 0.0534 - val_acc: 0.9913\n",
            "Epoch 34/50\n",
            "45000/45000 [==============================] - 100s 2ms/step - loss: 2.1564e-06 - acc: 1.0000 - val_loss: 0.0540 - val_acc: 0.9913\n",
            "Epoch 35/50\n",
            "45000/45000 [==============================] - 101s 2ms/step - loss: 1.8154e-06 - acc: 1.0000 - val_loss: 0.0545 - val_acc: 0.9913\n",
            "Epoch 36/50\n",
            "45000/45000 [==============================] - 99s 2ms/step - loss: 1.5069e-06 - acc: 1.0000 - val_loss: 0.0550 - val_acc: 0.9912\n",
            "Epoch 37/50\n",
            "45000/45000 [==============================] - 100s 2ms/step - loss: 1.2610e-06 - acc: 1.0000 - val_loss: 0.0556 - val_acc: 0.9912\n",
            "Epoch 38/50\n",
            "45000/45000 [==============================] - 101s 2ms/step - loss: 1.0694e-06 - acc: 1.0000 - val_loss: 0.0562 - val_acc: 0.9913\n",
            "Epoch 39/50\n",
            "45000/45000 [==============================] - 100s 2ms/step - loss: 9.0182e-07 - acc: 1.0000 - val_loss: 0.0566 - val_acc: 0.9914\n",
            "Epoch 40/50\n",
            "45000/45000 [==============================] - 100s 2ms/step - loss: 7.6565e-07 - acc: 1.0000 - val_loss: 0.0570 - val_acc: 0.9913\n",
            "Epoch 41/50\n",
            "45000/45000 [==============================] - 100s 2ms/step - loss: 6.5991e-07 - acc: 1.0000 - val_loss: 0.0576 - val_acc: 0.9915\n",
            "Epoch 42/50\n",
            "45000/45000 [==============================] - 99s 2ms/step - loss: 5.6645e-07 - acc: 1.0000 - val_loss: 0.0580 - val_acc: 0.9915\n",
            "Epoch 43/50\n",
            "45000/45000 [==============================] - 99s 2ms/step - loss: 4.8776e-07 - acc: 1.0000 - val_loss: 0.0585 - val_acc: 0.9913\n",
            "Epoch 44/50\n",
            "45000/45000 [==============================] - 100s 2ms/step - loss: 4.2846e-07 - acc: 1.0000 - val_loss: 0.0591 - val_acc: 0.9915\n",
            "Epoch 45/50\n",
            "45000/45000 [==============================] - 100s 2ms/step - loss: 3.7281e-07 - acc: 1.0000 - val_loss: 0.0597 - val_acc: 0.9916\n",
            "Epoch 46/50\n",
            "45000/45000 [==============================] - 100s 2ms/step - loss: 3.3240e-07 - acc: 1.0000 - val_loss: 0.0599 - val_acc: 0.9917\n",
            "Epoch 47/50\n",
            "45000/45000 [==============================] - 100s 2ms/step - loss: 2.9272e-07 - acc: 1.0000 - val_loss: 0.0603 - val_acc: 0.9916\n",
            "Epoch 48/50\n",
            "45000/45000 [==============================] - 99s 2ms/step - loss: 2.6534e-07 - acc: 1.0000 - val_loss: 0.0608 - val_acc: 0.9916\n",
            "Epoch 49/50\n",
            "45000/45000 [==============================] - 99s 2ms/step - loss: 2.4353e-07 - acc: 1.0000 - val_loss: 0.0613 - val_acc: 0.9918\n",
            "Epoch 50/50\n",
            "45000/45000 [==============================] - 100s 2ms/step - loss: 2.1911e-07 - acc: 1.0000 - val_loss: 0.0617 - val_acc: 0.9916\n",
            "10000/10000 [==============================] - 7s 722us/step\n",
            "Test Score :  0.04009663071177097\n",
            "Test Accuracy :  0.9939\n",
            "dict_keys(['val_loss', 'val_acc', 'loss', 'acc'])\n"
          ],
          "name": "stdout"
        }
      ]
    },
    {
      "cell_type": "code",
      "metadata": {
        "id": "rLiY-IWqF-yZ",
        "colab_type": "code",
        "outputId": "8a5b0fec-bd98-4118-d1ed-7899020ce045",
        "colab": {
          "base_uri": "https://localhost:8080/",
          "height": 295
        }
      },
      "source": [
        "# Visualisasi Akurasi\n",
        "plt.plot(history.history['acc'])\n",
        "plt.plot(history.history['val_acc'])\n",
        "plt.title(\"LeNet Model Accuracy\")\n",
        "plt.ylabel('Accuracy')\n",
        "plt.xlabel('Number of Epochs')\n",
        "plt.legend(['train', 'test'], loc='upper left')\n",
        "plt.show()"
      ],
      "execution_count": 0,
      "outputs": [
        {
          "output_type": "display_data",
          "data": {
            "image/png": "[encoded data removed]",
            "text/plain": [
              "<Figure size 432x288 with 1 Axes>"
            ]
          },
          "metadata": {
            "tags": []
          }
        }
      ]
    }
  ]
}